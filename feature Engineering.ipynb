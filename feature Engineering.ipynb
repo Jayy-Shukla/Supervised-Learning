{
 "cells": [
  {
   "cell_type": "markdown",
   "metadata": {
    "papermill": {
     "duration": 0.054467,
     "end_time": "2020-09-16T02:55:09.395243",
     "exception": false,
     "start_time": "2020-09-16T02:55:09.340776",
     "status": "completed"
    },
    "tags": []
   },
   "source": [
    "# **Feature Engineering From The Titanic Dataset**"
   ]
  },
  {
   "cell_type": "markdown",
   "metadata": {
    "papermill": {
     "duration": 0.051376,
     "end_time": "2020-09-16T02:55:09.498142",
     "exception": false,
     "start_time": "2020-09-16T02:55:09.446766",
     "status": "completed"
    },
    "tags": []
   },
   "source": []
  },
  {
   "cell_type": "markdown",
   "metadata": {
    "papermill": {
     "duration": 0.050453,
     "end_time": "2020-09-16T02:55:09.599549",
     "exception": false,
     "start_time": "2020-09-16T02:55:09.549096",
     "status": "completed"
    },
    "tags": []
   },
   "source": [
    "Throughout this notebook I will include:\n",
    "\n",
    "* Creating New Features from Multiple Existing Ones\n",
    "* One Hot Encoding and Categorical Coding\n",
    "* Handling Null and NaN Values\n",
    "* Feature Engineering Using Past Knowledge About the Data\n",
    "* Mining Features from Text and String Data\n",
    "* Plotting and Visualizing Each Feature \n"
   ]
  },
  {
   "cell_type": "markdown",
   "metadata": {
    "papermill": {
     "duration": 0.051007,
     "end_time": "2020-09-16T02:55:09.701202",
     "exception": false,
     "start_time": "2020-09-16T02:55:09.650195",
     "status": "completed"
    },
    "tags": []
   },
   "source": [
    "# **Importing Libraries And Reading the Data**"
   ]
  },
  {
   "cell_type": "code",
   "execution_count": 1,
   "metadata": {
    "_cell_guid": "6bbf2b1c-e98f-4eff-bfda-4a24d1646a0d",
    "_uuid": "5ff3ed15-3aa2-40be-86da-0ee075c57c1f",
    "execution": {
     "iopub.execute_input": "2020-09-16T02:55:09.812489Z",
     "iopub.status.busy": "2020-09-16T02:55:09.811784Z",
     "iopub.status.idle": "2020-09-16T02:55:10.946483Z",
     "shell.execute_reply": "2020-09-16T02:55:10.945655Z"
    },
    "papermill": {
     "duration": 1.193255,
     "end_time": "2020-09-16T02:55:10.946614",
     "exception": false,
     "start_time": "2020-09-16T02:55:09.753359",
     "status": "completed"
    },
    "tags": []
   },
   "outputs": [],
   "source": [
    "import numpy as np\n",
    "import pandas as pd\n",
    "import matplotlib.pyplot as plt\n",
    "import seaborn as sns\n",
    "sns.set_style('darkgrid')\n",
    "import math"
   ]
  },
  {
   "cell_type": "code",
   "execution_count": 2,
   "metadata": {
    "execution": {
     "iopub.execute_input": "2020-09-16T02:55:11.058496Z",
     "iopub.status.busy": "2020-09-16T02:55:11.057456Z",
     "iopub.status.idle": "2020-09-16T02:55:11.095523Z",
     "shell.execute_reply": "2020-09-16T02:55:11.096060Z"
    },
    "papermill": {
     "duration": 0.098005,
     "end_time": "2020-09-16T02:55:11.096215",
     "exception": false,
     "start_time": "2020-09-16T02:55:10.998210",
     "status": "completed"
    },
    "tags": []
   },
   "outputs": [
    {
     "data": {
      "text/html": [
       "<div>\n",
       "<style scoped>\n",
       "    .dataframe tbody tr th:only-of-type {\n",
       "        vertical-align: middle;\n",
       "    }\n",
       "\n",
       "    .dataframe tbody tr th {\n",
       "        vertical-align: top;\n",
       "    }\n",
       "\n",
       "    .dataframe thead th {\n",
       "        text-align: right;\n",
       "    }\n",
       "</style>\n",
       "<table border=\"1\" class=\"dataframe\">\n",
       "  <thead>\n",
       "    <tr style=\"text-align: right;\">\n",
       "      <th></th>\n",
       "      <th>PassengerId</th>\n",
       "      <th>Survived</th>\n",
       "      <th>Pclass</th>\n",
       "      <th>Name</th>\n",
       "      <th>Sex</th>\n",
       "      <th>Age</th>\n",
       "      <th>SibSp</th>\n",
       "      <th>Parch</th>\n",
       "      <th>Ticket</th>\n",
       "      <th>Fare</th>\n",
       "      <th>Cabin</th>\n",
       "      <th>Embarked</th>\n",
       "    </tr>\n",
       "  </thead>\n",
       "  <tbody>\n",
       "    <tr>\n",
       "      <th>0</th>\n",
       "      <td>1</td>\n",
       "      <td>0</td>\n",
       "      <td>3</td>\n",
       "      <td>Braund, Mr. Owen Harris</td>\n",
       "      <td>male</td>\n",
       "      <td>22.0</td>\n",
       "      <td>1</td>\n",
       "      <td>0</td>\n",
       "      <td>A/5 21171</td>\n",
       "      <td>7.2500</td>\n",
       "      <td>NaN</td>\n",
       "      <td>S</td>\n",
       "    </tr>\n",
       "    <tr>\n",
       "      <th>1</th>\n",
       "      <td>2</td>\n",
       "      <td>1</td>\n",
       "      <td>1</td>\n",
       "      <td>Cumings, Mrs. John Bradley (Florence Briggs Th...</td>\n",
       "      <td>female</td>\n",
       "      <td>38.0</td>\n",
       "      <td>1</td>\n",
       "      <td>0</td>\n",
       "      <td>PC 17599</td>\n",
       "      <td>71.2833</td>\n",
       "      <td>C85</td>\n",
       "      <td>C</td>\n",
       "    </tr>\n",
       "    <tr>\n",
       "      <th>2</th>\n",
       "      <td>3</td>\n",
       "      <td>1</td>\n",
       "      <td>3</td>\n",
       "      <td>Heikkinen, Miss. Laina</td>\n",
       "      <td>female</td>\n",
       "      <td>26.0</td>\n",
       "      <td>0</td>\n",
       "      <td>0</td>\n",
       "      <td>STON/O2. 3101282</td>\n",
       "      <td>7.9250</td>\n",
       "      <td>NaN</td>\n",
       "      <td>S</td>\n",
       "    </tr>\n",
       "    <tr>\n",
       "      <th>3</th>\n",
       "      <td>4</td>\n",
       "      <td>1</td>\n",
       "      <td>1</td>\n",
       "      <td>Futrelle, Mrs. Jacques Heath (Lily May Peel)</td>\n",
       "      <td>female</td>\n",
       "      <td>35.0</td>\n",
       "      <td>1</td>\n",
       "      <td>0</td>\n",
       "      <td>113803</td>\n",
       "      <td>53.1000</td>\n",
       "      <td>C123</td>\n",
       "      <td>S</td>\n",
       "    </tr>\n",
       "    <tr>\n",
       "      <th>4</th>\n",
       "      <td>5</td>\n",
       "      <td>0</td>\n",
       "      <td>3</td>\n",
       "      <td>Allen, Mr. William Henry</td>\n",
       "      <td>male</td>\n",
       "      <td>35.0</td>\n",
       "      <td>0</td>\n",
       "      <td>0</td>\n",
       "      <td>373450</td>\n",
       "      <td>8.0500</td>\n",
       "      <td>NaN</td>\n",
       "      <td>S</td>\n",
       "    </tr>\n",
       "  </tbody>\n",
       "</table>\n",
       "</div>"
      ],
      "text/plain": [
       "   PassengerId  Survived  Pclass  \\\n",
       "0            1         0       3   \n",
       "1            2         1       1   \n",
       "2            3         1       3   \n",
       "3            4         1       1   \n",
       "4            5         0       3   \n",
       "\n",
       "                                                Name     Sex   Age  SibSp  \\\n",
       "0                            Braund, Mr. Owen Harris    male  22.0      1   \n",
       "1  Cumings, Mrs. John Bradley (Florence Briggs Th...  female  38.0      1   \n",
       "2                             Heikkinen, Miss. Laina  female  26.0      0   \n",
       "3       Futrelle, Mrs. Jacques Heath (Lily May Peel)  female  35.0      1   \n",
       "4                           Allen, Mr. William Henry    male  35.0      0   \n",
       "\n",
       "   Parch            Ticket     Fare Cabin Embarked  \n",
       "0      0         A/5 21171   7.2500   NaN        S  \n",
       "1      0          PC 17599  71.2833   C85        C  \n",
       "2      0  STON/O2. 3101282   7.9250   NaN        S  \n",
       "3      0            113803  53.1000  C123        S  \n",
       "4      0            373450   8.0500   NaN        S  "
      ]
     },
     "execution_count": 2,
     "metadata": {},
     "output_type": "execute_result"
    }
   ],
   "source": [
    "train = pd.read_csv('titanic.csv')\n",
    "\n",
    "train.head(5)"
   ]
  },
  {
   "cell_type": "markdown",
   "metadata": {
    "papermill": {
     "duration": 0.052437,
     "end_time": "2020-09-16T02:55:11.201600",
     "exception": false,
     "start_time": "2020-09-16T02:55:11.149163",
     "status": "completed"
    },
    "tags": []
   },
   "source": [
    "As you can see we have very little data to work from. It is our job to expand this dataset and mine the features from it. First, let's get a sense of our Null values, as I can already see a lot of them appearing in the *Cabin* feature."
   ]
  },
  {
   "cell_type": "code",
   "execution_count": 3,
   "metadata": {
    "execution": {
     "iopub.execute_input": "2020-09-16T02:55:11.319355Z",
     "iopub.status.busy": "2020-09-16T02:55:11.315393Z",
     "iopub.status.idle": "2020-09-16T02:55:11.326753Z",
     "shell.execute_reply": "2020-09-16T02:55:11.326061Z"
    },
    "papermill": {
     "duration": 0.072942,
     "end_time": "2020-09-16T02:55:11.326897",
     "exception": false,
     "start_time": "2020-09-16T02:55:11.253955",
     "status": "completed"
    },
    "tags": []
   },
   "outputs": [
    {
     "name": "stdout",
     "output_type": "stream",
     "text": [
      "PassengerId :  0\n",
      "Survived :  0\n",
      "Pclass :  0\n",
      "Name :  0\n",
      "Sex :  0\n",
      "Age :  177\n",
      "SibSp :  0\n",
      "Parch :  0\n",
      "Ticket :  0\n",
      "Fare :  0\n",
      "Cabin :  687\n",
      "Embarked :  2\n"
     ]
    }
   ],
   "source": [
    "cols = train.columns\n",
    "for i in cols:\n",
    "    print(i, \": \", train[i].isnull().sum())"
   ]
  },
  {
   "cell_type": "markdown",
   "metadata": {
    "papermill": {
     "duration": 0.052707,
     "end_time": "2020-09-16T02:55:11.432797",
     "exception": false,
     "start_time": "2020-09-16T02:55:11.380090",
     "status": "completed"
    },
    "tags": []
   },
   "source": [
    "Seems like Embarked and Fares have negligible null values, but Cabin and Age have more signifcant amounts of Null values. We will have to keep this in mind when working with these features. In terms of Cabin, it seems like we are missing around 3/4 of the training data, which is very significant."
   ]
  },
  {
   "cell_type": "markdown",
   "metadata": {
    "papermill": {
     "duration": 0.052615,
     "end_time": "2020-09-16T02:55:11.540400",
     "exception": false,
     "start_time": "2020-09-16T02:55:11.487785",
     "status": "completed"
    },
    "tags": []
   },
   "source": [
    "# **Passenger Class**"
   ]
  },
  {
   "cell_type": "markdown",
   "metadata": {
    "papermill": {
     "duration": 0.052087,
     "end_time": "2020-09-16T02:55:11.644682",
     "exception": false,
     "start_time": "2020-09-16T02:55:11.592595",
     "status": "completed"
    },
    "tags": []
   },
   "source": [
    "Let's look at our first feature: Pclass. For Passenger Class, there are three options: 1, 2, or 3. One corresponds to the upper, highest class, two corresponds ot the middle class, and three corresponds to the lower, lowest class. "
   ]
  },
  {
   "cell_type": "code",
   "execution_count": 4,
   "metadata": {
    "_kg_hide-input": true,
    "execution": {
     "iopub.execute_input": "2020-09-16T02:55:11.759082Z",
     "iopub.status.busy": "2020-09-16T02:55:11.758092Z",
     "iopub.status.idle": "2020-09-16T02:55:12.013406Z",
     "shell.execute_reply": "2020-09-16T02:55:12.012815Z"
    },
    "papermill": {
     "duration": 0.315932,
     "end_time": "2020-09-16T02:55:12.013536",
     "exception": false,
     "start_time": "2020-09-16T02:55:11.697604",
     "status": "completed"
    },
    "tags": []
   },
   "outputs": [
    {
     "data": {
      "text/plain": [
       "Text(0, 0.5, 'Number of People')"
      ]
     },
     "execution_count": 4,
     "metadata": {},
     "output_type": "execute_result"
    },
    {
     "data": {
      "image/png": "[encoded data removed]",
      "text/plain": [
       "<Figure size 432x288 with 1 Axes>"
      ]
     },
     "metadata": {},
     "output_type": "display_data"
    }
   ],
   "source": [
    "plt.bar([1,2,3], height = [(train.Pclass==1).sum(),(train.Pclass==2).sum(),(train.Pclass==3).sum()])\n",
    "plt.title('Passenger Class')\n",
    "plt.xticks([1,2,3])\n",
    "plt.xlabel('Class')\n",
    "plt.ylabel('Number of People')"
   ]
  },
  {
   "cell_type": "markdown",
   "metadata": {
    "papermill": {
     "duration": 0.053008,
     "end_time": "2020-09-16T02:55:12.120477",
     "exception": false,
     "start_time": "2020-09-16T02:55:12.067469",
     "status": "completed"
    },
    "tags": []
   },
   "source": [
    "Interestingly, we see more 1st class passengers than 2nd class, as we would expect the amount of people per class to decrease with an increase in class. Yet we still see an overwheleming majority of 3rd class, lower class passengers, which could be significant when training the model. There isn't much to pull from this data, so let's just one-hot encode this data.\n",
    "\n",
    "One-hot encoding is when you take categorical data and turn it into multiple columns of data. Each column corresponds to one unique element in the categorical data, and each element in that column is a boolean value for whether or not it contains that feature. For example, if a categorical dataset has the options of 1, 2, or 3, a row with the label of '2' will become [0, 1, 0], as 1 and 3 are both False and 2 is True. This is useful for creating larger feature spaces, especailly when training classifiers that rely heavily on independent variables. \n",
    "\n",
    "![](https://miro.medium.com/max/1200/0*T5jaa2othYfXZX9W.)"
   ]
  },
  {
   "cell_type": "code",
   "execution_count": 5,
   "metadata": {
    "execution": {
     "iopub.execute_input": "2020-09-16T02:55:12.237836Z",
     "iopub.status.busy": "2020-09-16T02:55:12.236987Z",
     "iopub.status.idle": "2020-09-16T02:55:12.260092Z",
     "shell.execute_reply": "2020-09-16T02:55:12.260603Z"
    },
    "papermill": {
     "duration": 0.086199,
     "end_time": "2020-09-16T02:55:12.260769",
     "exception": false,
     "start_time": "2020-09-16T02:55:12.174570",
     "status": "completed"
    },
    "tags": []
   },
   "outputs": [
    {
     "data": {
      "text/html": [
       "<div>\n",
       "<style scoped>\n",
       "    .dataframe tbody tr th:only-of-type {\n",
       "        vertical-align: middle;\n",
       "    }\n",
       "\n",
       "    .dataframe tbody tr th {\n",
       "        vertical-align: top;\n",
       "    }\n",
       "\n",
       "    .dataframe thead th {\n",
       "        text-align: right;\n",
       "    }\n",
       "</style>\n",
       "<table border=\"1\" class=\"dataframe\">\n",
       "  <thead>\n",
       "    <tr style=\"text-align: right;\">\n",
       "      <th></th>\n",
       "      <th>PassengerId</th>\n",
       "      <th>Survived</th>\n",
       "      <th>Pclass</th>\n",
       "      <th>Name</th>\n",
       "      <th>Sex</th>\n",
       "      <th>Age</th>\n",
       "      <th>SibSp</th>\n",
       "      <th>Parch</th>\n",
       "      <th>Ticket</th>\n",
       "      <th>Fare</th>\n",
       "      <th>Cabin</th>\n",
       "      <th>Embarked</th>\n",
       "      <th>Pclass_1</th>\n",
       "      <th>Pclass_2</th>\n",
       "      <th>Pclass_3</th>\n",
       "    </tr>\n",
       "  </thead>\n",
       "  <tbody>\n",
       "    <tr>\n",
       "      <th>0</th>\n",
       "      <td>1</td>\n",
       "      <td>0</td>\n",
       "      <td>3</td>\n",
       "      <td>Braund, Mr. Owen Harris</td>\n",
       "      <td>male</td>\n",
       "      <td>22.0</td>\n",
       "      <td>1</td>\n",
       "      <td>0</td>\n",
       "      <td>A/5 21171</td>\n",
       "      <td>7.2500</td>\n",
       "      <td>NaN</td>\n",
       "      <td>S</td>\n",
       "      <td>0</td>\n",
       "      <td>0</td>\n",
       "      <td>1</td>\n",
       "    </tr>\n",
       "    <tr>\n",
       "      <th>1</th>\n",
       "      <td>2</td>\n",
       "      <td>1</td>\n",
       "      <td>1</td>\n",
       "      <td>Cumings, Mrs. John Bradley (Florence Briggs Th...</td>\n",
       "      <td>female</td>\n",
       "      <td>38.0</td>\n",
       "      <td>1</td>\n",
       "      <td>0</td>\n",
       "      <td>PC 17599</td>\n",
       "      <td>71.2833</td>\n",
       "      <td>C85</td>\n",
       "      <td>C</td>\n",
       "      <td>1</td>\n",
       "      <td>0</td>\n",
       "      <td>0</td>\n",
       "    </tr>\n",
       "    <tr>\n",
       "      <th>2</th>\n",
       "      <td>3</td>\n",
       "      <td>1</td>\n",
       "      <td>3</td>\n",
       "      <td>Heikkinen, Miss. Laina</td>\n",
       "      <td>female</td>\n",
       "      <td>26.0</td>\n",
       "      <td>0</td>\n",
       "      <td>0</td>\n",
       "      <td>STON/O2. 3101282</td>\n",
       "      <td>7.9250</td>\n",
       "      <td>NaN</td>\n",
       "      <td>S</td>\n",
       "      <td>0</td>\n",
       "      <td>0</td>\n",
       "      <td>1</td>\n",
       "    </tr>\n",
       "    <tr>\n",
       "      <th>3</th>\n",
       "      <td>4</td>\n",
       "      <td>1</td>\n",
       "      <td>1</td>\n",
       "      <td>Futrelle, Mrs. Jacques Heath (Lily May Peel)</td>\n",
       "      <td>female</td>\n",
       "      <td>35.0</td>\n",
       "      <td>1</td>\n",
       "      <td>0</td>\n",
       "      <td>113803</td>\n",
       "      <td>53.1000</td>\n",
       "      <td>C123</td>\n",
       "      <td>S</td>\n",
       "      <td>1</td>\n",
       "      <td>0</td>\n",
       "      <td>0</td>\n",
       "    </tr>\n",
       "    <tr>\n",
       "      <th>4</th>\n",
       "      <td>5</td>\n",
       "      <td>0</td>\n",
       "      <td>3</td>\n",
       "      <td>Allen, Mr. William Henry</td>\n",
       "      <td>male</td>\n",
       "      <td>35.0</td>\n",
       "      <td>0</td>\n",
       "      <td>0</td>\n",
       "      <td>373450</td>\n",
       "      <td>8.0500</td>\n",
       "      <td>NaN</td>\n",
       "      <td>S</td>\n",
       "      <td>0</td>\n",
       "      <td>0</td>\n",
       "      <td>1</td>\n",
       "    </tr>\n",
       "  </tbody>\n",
       "</table>\n",
       "</div>"
      ],
      "text/plain": [
       "   PassengerId  Survived  Pclass  \\\n",
       "0            1         0       3   \n",
       "1            2         1       1   \n",
       "2            3         1       3   \n",
       "3            4         1       1   \n",
       "4            5         0       3   \n",
       "\n",
       "                                                Name     Sex   Age  SibSp  \\\n",
       "0                            Braund, Mr. Owen Harris    male  22.0      1   \n",
       "1  Cumings, Mrs. John Bradley (Florence Briggs Th...  female  38.0      1   \n",
       "2                             Heikkinen, Miss. Laina  female  26.0      0   \n",
       "3       Futrelle, Mrs. Jacques Heath (Lily May Peel)  female  35.0      1   \n",
       "4                           Allen, Mr. William Henry    male  35.0      0   \n",
       "\n",
       "   Parch            Ticket     Fare Cabin Embarked  Pclass_1  Pclass_2  \\\n",
       "0      0         A/5 21171   7.2500   NaN        S         0         0   \n",
       "1      0          PC 17599  71.2833   C85        C         1         0   \n",
       "2      0  STON/O2. 3101282   7.9250   NaN        S         0         0   \n",
       "3      0            113803  53.1000  C123        S         1         0   \n",
       "4      0            373450   8.0500   NaN        S         0         0   \n",
       "\n",
       "   Pclass_3  \n",
       "0         1  \n",
       "1         0  \n",
       "2         1  \n",
       "3         0  \n",
       "4         1  "
      ]
     },
     "execution_count": 5,
     "metadata": {},
     "output_type": "execute_result"
    }
   ],
   "source": [
    "pclass = pd.get_dummies(train.Pclass,prefix = 'Pclass')\n",
    "train = pd.concat([train,pclass],axis = 1)\n",
    "\n",
    "train.head()"
   ]
  },
  {
   "cell_type": "markdown",
   "metadata": {
    "papermill": {
     "duration": 0.054119,
     "end_time": "2020-09-16T02:55:12.368954",
     "exception": false,
     "start_time": "2020-09-16T02:55:12.314835",
     "status": "completed"
    },
    "tags": []
   },
   "source": [
    "Awesome! Pclass was an easy feature to handle so a good start so far!"
   ]
  },
  {
   "cell_type": "markdown",
   "metadata": {
    "papermill": {
     "duration": 0.065173,
     "end_time": "2020-09-16T02:55:12.488380",
     "exception": false,
     "start_time": "2020-09-16T02:55:12.423207",
     "status": "completed"
    },
    "tags": []
   },
   "source": [
    "# **Names and Titles**"
   ]
  },
  {
   "cell_type": "markdown",
   "metadata": {
    "papermill": {
     "duration": 0.068815,
     "end_time": "2020-09-16T02:55:12.618904",
     "exception": false,
     "start_time": "2020-09-16T02:55:12.550089",
     "status": "completed"
    },
    "tags": []
   },
   "source": [
    "Here, it gets a little more complicated, as name comes in string data, which we must mine the data from. Let's take a look at what the options are and how the names are formatted."
   ]
  },
  {
   "cell_type": "code",
   "execution_count": 6,
   "metadata": {
    "execution": {
     "iopub.execute_input": "2020-09-16T02:55:12.734916Z",
     "iopub.status.busy": "2020-09-16T02:55:12.734208Z",
     "iopub.status.idle": "2020-09-16T02:55:12.738193Z",
     "shell.execute_reply": "2020-09-16T02:55:12.738711Z"
    },
    "papermill": {
     "duration": 0.064938,
     "end_time": "2020-09-16T02:55:12.738856",
     "exception": false,
     "start_time": "2020-09-16T02:55:12.673918",
     "status": "completed"
    },
    "tags": []
   },
   "outputs": [
    {
     "data": {
      "text/plain": [
       "array(['Braund, Mr. Owen Harris',\n",
       "       'Cumings, Mrs. John Bradley (Florence Briggs Thayer)',\n",
       "       'Heikkinen, Miss. Laina',\n",
       "       'Futrelle, Mrs. Jacques Heath (Lily May Peel)',\n",
       "       'Allen, Mr. William Henry', 'Moran, Mr. James',\n",
       "       'McCarthy, Mr. Timothy J', 'Palsson, Master. Gosta Leonard',\n",
       "       'Johnson, Mrs. Oscar W (Elisabeth Vilhelmina Berg)',\n",
       "       'Nasser, Mrs. Nicholas (Adele Achem)',\n",
       "       'Sandstrom, Miss. Marguerite Rut', 'Bonnell, Miss. Elizabeth',\n",
       "       'Saundercock, Mr. William Henry', 'Andersson, Mr. Anders Johan',\n",
       "       'Vestrom, Miss. Hulda Amanda Adolfina',\n",
       "       'Hewlett, Mrs. (Mary D Kingcome) ', 'Rice, Master. Eugene',\n",
       "       'Williams, Mr. Charles Eugene',\n",
       "       'Vander Planke, Mrs. Julius (Emelia Maria Vandemoortele)',\n",
       "       'Masselmani, Mrs. Fatima'], dtype=object)"
      ]
     },
     "execution_count": 6,
     "metadata": {},
     "output_type": "execute_result"
    }
   ],
   "source": [
    "train.Name.unique()[0:20]"
   ]
  },
  {
   "cell_type": "markdown",
   "metadata": {
    "papermill": {
     "duration": 0.054969,
     "end_time": "2020-09-16T02:55:12.851016",
     "exception": false,
     "start_time": "2020-09-16T02:55:12.796047",
     "status": "completed"
    },
    "tags": []
   },
   "source": [
    "It seems like most of the names are following the pattern of \"LastName, Title. FirstName\" with some of them having a parentheses. The second name in the parentheses may mean something else, but we can't tell for sure until we do more digging. But still, there is plenty of data we can pull from just their name. \n",
    "\n",
    "First, let's take a look at their title. I will extract the title by finding the index of the comma in the name, adding two to it to get the index of the first letter of the title, and then finding the period. I will then index the string, with the beginning and ending index, to get the titles."
   ]
  },
  {
   "cell_type": "code",
   "execution_count": 7,
   "metadata": {
    "execution": {
     "iopub.execute_input": "2020-09-16T02:55:12.966685Z",
     "iopub.status.busy": "2020-09-16T02:55:12.966031Z",
     "iopub.status.idle": "2020-09-16T02:55:13.014727Z",
     "shell.execute_reply": "2020-09-16T02:55:13.015283Z"
    },
    "papermill": {
     "duration": 0.109388,
     "end_time": "2020-09-16T02:55:13.015447",
     "exception": false,
     "start_time": "2020-09-16T02:55:12.906059",
     "status": "completed"
    },
    "tags": []
   },
   "outputs": [
    {
     "data": {
      "text/html": [
       "<div>\n",
       "<style scoped>\n",
       "    .dataframe tbody tr th:only-of-type {\n",
       "        vertical-align: middle;\n",
       "    }\n",
       "\n",
       "    .dataframe tbody tr th {\n",
       "        vertical-align: top;\n",
       "    }\n",
       "\n",
       "    .dataframe thead th {\n",
       "        text-align: right;\n",
       "    }\n",
       "</style>\n",
       "<table border=\"1\" class=\"dataframe\">\n",
       "  <thead>\n",
       "    <tr style=\"text-align: right;\">\n",
       "      <th></th>\n",
       "      <th>PassengerId</th>\n",
       "      <th>Survived</th>\n",
       "      <th>Pclass</th>\n",
       "      <th>Name</th>\n",
       "      <th>Sex</th>\n",
       "      <th>Age</th>\n",
       "      <th>SibSp</th>\n",
       "      <th>Parch</th>\n",
       "      <th>Ticket</th>\n",
       "      <th>Fare</th>\n",
       "      <th>Cabin</th>\n",
       "      <th>Embarked</th>\n",
       "      <th>Pclass_1</th>\n",
       "      <th>Pclass_2</th>\n",
       "      <th>Pclass_3</th>\n",
       "      <th>Titles</th>\n",
       "    </tr>\n",
       "  </thead>\n",
       "  <tbody>\n",
       "    <tr>\n",
       "      <th>0</th>\n",
       "      <td>1</td>\n",
       "      <td>0</td>\n",
       "      <td>3</td>\n",
       "      <td>Braund, Mr. Owen Harris</td>\n",
       "      <td>male</td>\n",
       "      <td>22.0</td>\n",
       "      <td>1</td>\n",
       "      <td>0</td>\n",
       "      <td>A/5 21171</td>\n",
       "      <td>7.2500</td>\n",
       "      <td>NaN</td>\n",
       "      <td>S</td>\n",
       "      <td>0</td>\n",
       "      <td>0</td>\n",
       "      <td>1</td>\n",
       "      <td>Mr</td>\n",
       "    </tr>\n",
       "    <tr>\n",
       "      <th>1</th>\n",
       "      <td>2</td>\n",
       "      <td>1</td>\n",
       "      <td>1</td>\n",
       "      <td>Cumings, Mrs. John Bradley (Florence Briggs Th...</td>\n",
       "      <td>female</td>\n",
       "      <td>38.0</td>\n",
       "      <td>1</td>\n",
       "      <td>0</td>\n",
       "      <td>PC 17599</td>\n",
       "      <td>71.2833</td>\n",
       "      <td>C85</td>\n",
       "      <td>C</td>\n",
       "      <td>1</td>\n",
       "      <td>0</td>\n",
       "      <td>0</td>\n",
       "      <td>Mrs</td>\n",
       "    </tr>\n",
       "    <tr>\n",
       "      <th>2</th>\n",
       "      <td>3</td>\n",
       "      <td>1</td>\n",
       "      <td>3</td>\n",
       "      <td>Heikkinen, Miss. Laina</td>\n",
       "      <td>female</td>\n",
       "      <td>26.0</td>\n",
       "      <td>0</td>\n",
       "      <td>0</td>\n",
       "      <td>STON/O2. 3101282</td>\n",
       "      <td>7.9250</td>\n",
       "      <td>NaN</td>\n",
       "      <td>S</td>\n",
       "      <td>0</td>\n",
       "      <td>0</td>\n",
       "      <td>1</td>\n",
       "      <td>Miss</td>\n",
       "    </tr>\n",
       "    <tr>\n",
       "      <th>3</th>\n",
       "      <td>4</td>\n",
       "      <td>1</td>\n",
       "      <td>1</td>\n",
       "      <td>Futrelle, Mrs. Jacques Heath (Lily May Peel)</td>\n",
       "      <td>female</td>\n",
       "      <td>35.0</td>\n",
       "      <td>1</td>\n",
       "      <td>0</td>\n",
       "      <td>113803</td>\n",
       "      <td>53.1000</td>\n",
       "      <td>C123</td>\n",
       "      <td>S</td>\n",
       "      <td>1</td>\n",
       "      <td>0</td>\n",
       "      <td>0</td>\n",
       "      <td>Mrs</td>\n",
       "    </tr>\n",
       "    <tr>\n",
       "      <th>4</th>\n",
       "      <td>5</td>\n",
       "      <td>0</td>\n",
       "      <td>3</td>\n",
       "      <td>Allen, Mr. William Henry</td>\n",
       "      <td>male</td>\n",
       "      <td>35.0</td>\n",
       "      <td>0</td>\n",
       "      <td>0</td>\n",
       "      <td>373450</td>\n",
       "      <td>8.0500</td>\n",
       "      <td>NaN</td>\n",
       "      <td>S</td>\n",
       "      <td>0</td>\n",
       "      <td>0</td>\n",
       "      <td>1</td>\n",
       "      <td>Mr</td>\n",
       "    </tr>\n",
       "  </tbody>\n",
       "</table>\n",
       "</div>"
      ],
      "text/plain": [
       "   PassengerId  Survived  Pclass  \\\n",
       "0            1         0       3   \n",
       "1            2         1       1   \n",
       "2            3         1       3   \n",
       "3            4         1       1   \n",
       "4            5         0       3   \n",
       "\n",
       "                                                Name     Sex   Age  SibSp  \\\n",
       "0                            Braund, Mr. Owen Harris    male  22.0      1   \n",
       "1  Cumings, Mrs. John Bradley (Florence Briggs Th...  female  38.0      1   \n",
       "2                             Heikkinen, Miss. Laina  female  26.0      0   \n",
       "3       Futrelle, Mrs. Jacques Heath (Lily May Peel)  female  35.0      1   \n",
       "4                           Allen, Mr. William Henry    male  35.0      0   \n",
       "\n",
       "   Parch            Ticket     Fare Cabin Embarked  Pclass_1  Pclass_2  \\\n",
       "0      0         A/5 21171   7.2500   NaN        S         0         0   \n",
       "1      0          PC 17599  71.2833   C85        C         1         0   \n",
       "2      0  STON/O2. 3101282   7.9250   NaN        S         0         0   \n",
       "3      0            113803  53.1000  C123        S         1         0   \n",
       "4      0            373450   8.0500   NaN        S         0         0   \n",
       "\n",
       "   Pclass_3 Titles  \n",
       "0         1     Mr  \n",
       "1         0    Mrs  \n",
       "2         1   Miss  \n",
       "3         0    Mrs  \n",
       "4         1     Mr  "
      ]
     },
     "execution_count": 7,
     "metadata": {},
     "output_type": "execute_result"
    }
   ],
   "source": [
    "titles = []\n",
    "for i in range (0,len(train)):\n",
    "    start = train['Name'][i].find(',') + 2\n",
    "    end = train['Name'][i].find('.')\n",
    "    titles.append(train['Name'][i][start:end])\n",
    "train['Titles'] = titles\n",
    "\n",
    "train.head()"
   ]
  },
  {
   "cell_type": "markdown",
   "metadata": {
    "papermill": {
     "duration": 0.055222,
     "end_time": "2020-09-16T02:55:13.126366",
     "exception": false,
     "start_time": "2020-09-16T02:55:13.071144",
     "status": "completed"
    },
    "tags": []
   },
   "source": [
    "So now, we have a column of titles, such as Mr, Mrs, and Miss. Let's take a look at all the options for titles."
   ]
  },
  {
   "cell_type": "code",
   "execution_count": 8,
   "metadata": {
    "execution": {
     "iopub.execute_input": "2020-09-16T02:55:13.246655Z",
     "iopub.status.busy": "2020-09-16T02:55:13.245596Z",
     "iopub.status.idle": "2020-09-16T02:55:13.250508Z",
     "shell.execute_reply": "2020-09-16T02:55:13.249999Z"
    },
    "papermill": {
     "duration": 0.068696,
     "end_time": "2020-09-16T02:55:13.250627",
     "exception": false,
     "start_time": "2020-09-16T02:55:13.181931",
     "status": "completed"
    },
    "tags": []
   },
   "outputs": [
    {
     "data": {
      "text/plain": [
       "array(['Mr', 'Mrs', 'Miss', 'Master', 'Don', 'Rev', 'Dr', 'Mme', 'Ms',\n",
       "       'Major', 'Lady', 'Sir', 'Mlle', 'Col', 'Capt', 'the Countess',\n",
       "       'Jonkheer'], dtype=object)"
      ]
     },
     "execution_count": 8,
     "metadata": {},
     "output_type": "execute_result"
    }
   ],
   "source": [
    "train.Titles.unique()"
   ]
  },
  {
   "cell_type": "markdown",
   "metadata": {
    "papermill": {
     "duration": 0.055957,
     "end_time": "2020-09-16T02:55:13.362286",
     "exception": false,
     "start_time": "2020-09-16T02:55:13.306329",
     "status": "completed"
    },
    "tags": []
   },
   "source": [
    "Wow there are some weird ones in there! Who knows what a \"jonkheer\" is. Let's take a look at the distribution of these titles as well, since some of these are very odd and rare titles."
   ]
  },
  {
   "cell_type": "code",
   "execution_count": 9,
   "metadata": {
    "execution": {
     "iopub.execute_input": "2020-09-16T02:55:13.487347Z",
     "iopub.status.busy": "2020-09-16T02:55:13.486455Z",
     "iopub.status.idle": "2020-09-16T02:55:13.613732Z",
     "shell.execute_reply": "2020-09-16T02:55:13.613195Z"
    },
    "papermill": {
     "duration": 0.195696,
     "end_time": "2020-09-16T02:55:13.613849",
     "exception": false,
     "start_time": "2020-09-16T02:55:13.418153",
     "status": "completed"
    },
    "tags": []
   },
   "outputs": [
    {
     "data": {
      "image/png": "[encoded data removed]",
      "text/plain": [
       "<Figure size 432x288 with 1 Axes>"
      ]
     },
     "metadata": {},
     "output_type": "display_data"
    }
   ],
   "source": [
    "fig1, ax1 = plt.subplots()\n",
    "sizes = []\n",
    "for i in train.Titles.unique():\n",
    "    sizes.append((train.Titles==i).sum())\n",
    "ax1.pie(sizes, labels = train.Titles.unique(),autopct = '%1.1f%%')\n",
    "ax1.axis('equal')\n",
    "plt.show()"
   ]
  },
  {
   "cell_type": "markdown",
   "metadata": {
    "papermill": {
     "duration": 0.057953,
     "end_time": "2020-09-16T02:55:13.729491",
     "exception": false,
     "start_time": "2020-09-16T02:55:13.671538",
     "status": "completed"
    },
    "tags": []
   },
   "source": [
    "It looks like the bulk of titles are either Mr, Mrs, or Miss, which are the standard titles, and the rest are what I will call \"special titles\". From this, I believe we can make another feature. I will make a boolean feature, where True will indicate that this element is a \"special title\" whereas False will indicate it is one of the three common titles."
   ]
  },
  {
   "cell_type": "code",
   "execution_count": 10,
   "metadata": {
    "execution": {
     "iopub.execute_input": "2020-09-16T02:55:13.850604Z",
     "iopub.status.busy": "2020-09-16T02:55:13.849594Z",
     "iopub.status.idle": "2020-09-16T02:55:13.912765Z",
     "shell.execute_reply": "2020-09-16T02:55:13.913334Z"
    },
    "papermill": {
     "duration": 0.124639,
     "end_time": "2020-09-16T02:55:13.913496",
     "exception": false,
     "start_time": "2020-09-16T02:55:13.788857",
     "status": "completed"
    },
    "tags": []
   },
   "outputs": [
    {
     "data": {
      "image/png": "[encoded data removed]",
      "text/plain": [
       "<Figure size 432x288 with 1 Axes>"
      ]
     },
     "metadata": {},
     "output_type": "display_data"
    }
   ],
   "source": [
    "train['SpecialTitle'] = train['Titles'].apply(lambda x: True if x != 'Mr' and x != 'Mrs' and x!= 'Miss' else False)\n",
    "\n",
    "fig1, ax1 = plt.subplots()\n",
    "sizes = []\n",
    "for i in train.SpecialTitle.unique():\n",
    "    sizes.append((train.SpecialTitle==i).sum())\n",
    "ax1.pie(sizes, labels = train.SpecialTitle.unique(),autopct = '%1.1f%%')\n",
    "ax1.axis('equal')\n",
    "plt.show()\n"
   ]
  },
  {
   "cell_type": "markdown",
   "metadata": {
    "papermill": {
     "duration": 0.057743,
     "end_time": "2020-09-16T02:55:14.030545",
     "exception": false,
     "start_time": "2020-09-16T02:55:13.972802",
     "status": "completed"
    },
    "tags": []
   },
   "source": [
    "This looks like a much cleaner breakdwon. In the other pie chart, all of the special names became jumbled together, making it harder for the classifier to learn the difference between them and their impact on the survival rate of the person. Instead here, we have grouped them together, to help create a bigger sample size for the classifier to learn from."
   ]
  },
  {
   "cell_type": "markdown",
   "metadata": {
    "papermill": {
     "duration": 0.057896,
     "end_time": "2020-09-16T02:55:14.146190",
     "exception": false,
     "start_time": "2020-09-16T02:55:14.088294",
     "status": "completed"
    },
    "tags": []
   },
   "source": [
    "Just one last thing. In order to use the \"Titles\" data, I will have to turn it into numerical data for any classifier to use. I will do this by using categorical values. This assigns each unique element a number, therefore maintaining the distinction between the data while also allowing for the data to become numerical.\n",
    "\n",
    "![](https://miro.medium.com/max/996/1*K5JbqxIwwPmtiSNQhjLPRg.png)"
   ]
  },
  {
   "cell_type": "code",
   "execution_count": 11,
   "metadata": {
    "execution": {
     "iopub.execute_input": "2020-09-16T02:55:14.271463Z",
     "iopub.status.busy": "2020-09-16T02:55:14.270440Z",
     "iopub.status.idle": "2020-09-16T02:55:14.286536Z",
     "shell.execute_reply": "2020-09-16T02:55:14.287016Z"
    },
    "papermill": {
     "duration": 0.082433,
     "end_time": "2020-09-16T02:55:14.287168",
     "exception": false,
     "start_time": "2020-09-16T02:55:14.204735",
     "status": "completed"
    },
    "tags": []
   },
   "outputs": [
    {
     "data": {
      "text/html": [
       "<div>\n",
       "<style scoped>\n",
       "    .dataframe tbody tr th:only-of-type {\n",
       "        vertical-align: middle;\n",
       "    }\n",
       "\n",
       "    .dataframe tbody tr th {\n",
       "        vertical-align: top;\n",
       "    }\n",
       "\n",
       "    .dataframe thead th {\n",
       "        text-align: right;\n",
       "    }\n",
       "</style>\n",
       "<table border=\"1\" class=\"dataframe\">\n",
       "  <thead>\n",
       "    <tr style=\"text-align: right;\">\n",
       "      <th></th>\n",
       "      <th>PassengerId</th>\n",
       "      <th>Survived</th>\n",
       "      <th>Pclass</th>\n",
       "      <th>Name</th>\n",
       "      <th>Sex</th>\n",
       "      <th>Age</th>\n",
       "      <th>SibSp</th>\n",
       "      <th>Parch</th>\n",
       "      <th>Ticket</th>\n",
       "      <th>Fare</th>\n",
       "      <th>Cabin</th>\n",
       "      <th>Embarked</th>\n",
       "      <th>Pclass_1</th>\n",
       "      <th>Pclass_2</th>\n",
       "      <th>Pclass_3</th>\n",
       "      <th>Titles</th>\n",
       "      <th>SpecialTitle</th>\n",
       "    </tr>\n",
       "  </thead>\n",
       "  <tbody>\n",
       "    <tr>\n",
       "      <th>0</th>\n",
       "      <td>1</td>\n",
       "      <td>0</td>\n",
       "      <td>3</td>\n",
       "      <td>Braund, Mr. Owen Harris</td>\n",
       "      <td>male</td>\n",
       "      <td>22.0</td>\n",
       "      <td>1</td>\n",
       "      <td>0</td>\n",
       "      <td>A/5 21171</td>\n",
       "      <td>7.2500</td>\n",
       "      <td>NaN</td>\n",
       "      <td>S</td>\n",
       "      <td>0</td>\n",
       "      <td>0</td>\n",
       "      <td>1</td>\n",
       "      <td>11</td>\n",
       "      <td>False</td>\n",
       "    </tr>\n",
       "    <tr>\n",
       "      <th>1</th>\n",
       "      <td>2</td>\n",
       "      <td>1</td>\n",
       "      <td>1</td>\n",
       "      <td>Cumings, Mrs. John Bradley (Florence Briggs Th...</td>\n",
       "      <td>female</td>\n",
       "      <td>38.0</td>\n",
       "      <td>1</td>\n",
       "      <td>0</td>\n",
       "      <td>PC 17599</td>\n",
       "      <td>71.2833</td>\n",
       "      <td>C85</td>\n",
       "      <td>C</td>\n",
       "      <td>1</td>\n",
       "      <td>0</td>\n",
       "      <td>0</td>\n",
       "      <td>12</td>\n",
       "      <td>False</td>\n",
       "    </tr>\n",
       "    <tr>\n",
       "      <th>2</th>\n",
       "      <td>3</td>\n",
       "      <td>1</td>\n",
       "      <td>3</td>\n",
       "      <td>Heikkinen, Miss. Laina</td>\n",
       "      <td>female</td>\n",
       "      <td>26.0</td>\n",
       "      <td>0</td>\n",
       "      <td>0</td>\n",
       "      <td>STON/O2. 3101282</td>\n",
       "      <td>7.9250</td>\n",
       "      <td>NaN</td>\n",
       "      <td>S</td>\n",
       "      <td>0</td>\n",
       "      <td>0</td>\n",
       "      <td>1</td>\n",
       "      <td>8</td>\n",
       "      <td>False</td>\n",
       "    </tr>\n",
       "    <tr>\n",
       "      <th>3</th>\n",
       "      <td>4</td>\n",
       "      <td>1</td>\n",
       "      <td>1</td>\n",
       "      <td>Futrelle, Mrs. Jacques Heath (Lily May Peel)</td>\n",
       "      <td>female</td>\n",
       "      <td>35.0</td>\n",
       "      <td>1</td>\n",
       "      <td>0</td>\n",
       "      <td>113803</td>\n",
       "      <td>53.1000</td>\n",
       "      <td>C123</td>\n",
       "      <td>S</td>\n",
       "      <td>1</td>\n",
       "      <td>0</td>\n",
       "      <td>0</td>\n",
       "      <td>12</td>\n",
       "      <td>False</td>\n",
       "    </tr>\n",
       "    <tr>\n",
       "      <th>4</th>\n",
       "      <td>5</td>\n",
       "      <td>0</td>\n",
       "      <td>3</td>\n",
       "      <td>Allen, Mr. William Henry</td>\n",
       "      <td>male</td>\n",
       "      <td>35.0</td>\n",
       "      <td>0</td>\n",
       "      <td>0</td>\n",
       "      <td>373450</td>\n",
       "      <td>8.0500</td>\n",
       "      <td>NaN</td>\n",
       "      <td>S</td>\n",
       "      <td>0</td>\n",
       "      <td>0</td>\n",
       "      <td>1</td>\n",
       "      <td>11</td>\n",
       "      <td>False</td>\n",
       "    </tr>\n",
       "  </tbody>\n",
       "</table>\n",
       "</div>"
      ],
      "text/plain": [
       "   PassengerId  Survived  Pclass  \\\n",
       "0            1         0       3   \n",
       "1            2         1       1   \n",
       "2            3         1       3   \n",
       "3            4         1       1   \n",
       "4            5         0       3   \n",
       "\n",
       "                                                Name     Sex   Age  SibSp  \\\n",
       "0                            Braund, Mr. Owen Harris    male  22.0      1   \n",
       "1  Cumings, Mrs. John Bradley (Florence Briggs Th...  female  38.0      1   \n",
       "2                             Heikkinen, Miss. Laina  female  26.0      0   \n",
       "3       Futrelle, Mrs. Jacques Heath (Lily May Peel)  female  35.0      1   \n",
       "4                           Allen, Mr. William Henry    male  35.0      0   \n",
       "\n",
       "   Parch            Ticket     Fare Cabin Embarked  Pclass_1  Pclass_2  \\\n",
       "0      0         A/5 21171   7.2500   NaN        S         0         0   \n",
       "1      0          PC 17599  71.2833   C85        C         1         0   \n",
       "2      0  STON/O2. 3101282   7.9250   NaN        S         0         0   \n",
       "3      0            113803  53.1000  C123        S         1         0   \n",
       "4      0            373450   8.0500   NaN        S         0         0   \n",
       "\n",
       "   Pclass_3  Titles  SpecialTitle  \n",
       "0         1      11         False  \n",
       "1         0      12         False  \n",
       "2         1       8         False  \n",
       "3         0      12         False  \n",
       "4         1      11         False  "
      ]
     },
     "execution_count": 11,
     "metadata": {},
     "output_type": "execute_result"
    }
   ],
   "source": [
    "train['Titles'] = train['Titles'].astype('category').cat.codes\n",
    "\n",
    "train.head()"
   ]
  },
  {
   "cell_type": "markdown",
   "metadata": {
    "papermill": {
     "duration": 0.058898,
     "end_time": "2020-09-16T02:55:14.405105",
     "exception": false,
     "start_time": "2020-09-16T02:55:14.346207",
     "status": "completed"
    },
    "tags": []
   },
   "source": [
    "# **Name Lengths**"
   ]
  },
  {
   "cell_type": "markdown",
   "metadata": {
    "papermill": {
     "duration": 0.060745,
     "end_time": "2020-09-16T02:55:14.524934",
     "exception": false,
     "start_time": "2020-09-16T02:55:14.464189",
     "status": "completed"
    },
    "tags": []
   },
   "source": [
    "With text, there is also another handy feature to make: The Length. Although this may not be that helpful in predicting the Titantic dataset, it is a handy tool that could be helpful especially for NLP tasks or other classification tasks. Either way, I will create three different features: Last Name Length, First and Middle Name Length, and Total Name Length."
   ]
  },
  {
   "cell_type": "code",
   "execution_count": 12,
   "metadata": {
    "execution": {
     "iopub.execute_input": "2020-09-16T02:55:14.647627Z",
     "iopub.status.busy": "2020-09-16T02:55:14.646914Z",
     "iopub.status.idle": "2020-09-16T02:55:15.003774Z",
     "shell.execute_reply": "2020-09-16T02:55:15.004311Z"
    },
    "papermill": {
     "duration": 0.419896,
     "end_time": "2020-09-16T02:55:15.004487",
     "exception": false,
     "start_time": "2020-09-16T02:55:14.584591",
     "status": "completed"
    },
    "tags": []
   },
   "outputs": [
    {
     "data": {
      "text/plain": [
       "Text(0, 0.5, 'Number of People')"
      ]
     },
     "execution_count": 12,
     "metadata": {},
     "output_type": "execute_result"
    },
    {
     "data": {
      "image/png": "[encoded data removed]",
      "text/plain": [
       "<Figure size 432x288 with 1 Axes>"
      ]
     },
     "metadata": {},
     "output_type": "display_data"
    }
   ],
   "source": [
    "length = []\n",
    "for i in range(len(train.Name)):\n",
    "    end = train['Name'][i].find(',')\n",
    "    length.append(end)\n",
    "\n",
    "train['LastNameLength'] = length\n",
    "\n",
    "counts = []\n",
    "for i in sorted(list(train.LastNameLength.unique())):\n",
    "    counts.append((train.LastNameLength == i).sum())\n",
    "plt.bar(sorted(list(train.LastNameLength.unique())), height = counts)\n",
    "plt.title('Last Name Lengths')\n",
    "plt.xlabel('Length')\n",
    "plt.ylabel('Number of People')"
   ]
  },
  {
   "cell_type": "markdown",
   "metadata": {
    "papermill": {
     "duration": 0.06014,
     "end_time": "2020-09-16T02:55:15.126082",
     "exception": false,
     "start_time": "2020-09-16T02:55:15.065942",
     "status": "completed"
    },
    "tags": []
   },
   "source": [
    "On the graph, we can see there are several outliers towards the 22 and 20 side, which we may have to disinclude or change later on. But as we can see, the bulk of people are centered around the 6-7 characters long."
   ]
  },
  {
   "cell_type": "code",
   "execution_count": 13,
   "metadata": {
    "execution": {
     "iopub.execute_input": "2020-09-16T02:55:15.267816Z",
     "iopub.status.busy": "2020-09-16T02:55:15.262368Z",
     "iopub.status.idle": "2020-09-16T02:55:15.624723Z",
     "shell.execute_reply": "2020-09-16T02:55:15.624014Z"
    },
    "papermill": {
     "duration": 0.437761,
     "end_time": "2020-09-16T02:55:15.624852",
     "exception": false,
     "start_time": "2020-09-16T02:55:15.187091",
     "status": "completed"
    },
    "tags": []
   },
   "outputs": [
    {
     "data": {
      "text/plain": [
       "Text(0, 0.5, 'Number of People')"
      ]
     },
     "execution_count": 13,
     "metadata": {},
     "output_type": "execute_result"
    },
    {
     "data": {
      "image/png": "[encoded data removed]",
      "text/plain": [
       "<Figure size 432x288 with 1 Axes>"
      ]
     },
     "metadata": {},
     "output_type": "display_data"
    }
   ],
   "source": [
    "length = []\n",
    "for i in range(len(train.Name)):\n",
    "    beg = train['Name'][i].find('.')\n",
    "    if '(' in train['Name'][i]:\n",
    "        end = train['Name'][i].find('(')\n",
    "        if (end-beg-3 < 0):\n",
    "            close = train['Name'][i].find(')')\n",
    "            length.append(close-end-1)\n",
    "        else:\n",
    "            length.append(end-beg-3)\n",
    "    else:\n",
    "        length.append(len(train['Name'][i]) - beg - 1)\n",
    "        \n",
    "train['FMNameLength'] = length\n",
    "\n",
    "\n",
    "counts = []\n",
    "for i in sorted(list(train.FMNameLength.unique())):\n",
    "    counts.append((train.FMNameLength == i).sum())\n",
    "plt.bar(sorted(list(train.FMNameLength.unique())), height = counts)\n",
    "plt.title('First and Middle Name Lengths')\n",
    "plt.xlabel('Length')\n",
    "plt.ylabel('Number of People')"
   ]
  },
  {
   "cell_type": "markdown",
   "metadata": {
    "papermill": {
     "duration": 0.06212,
     "end_time": "2020-09-16T02:55:15.749675",
     "exception": false,
     "start_time": "2020-09-16T02:55:15.687555",
     "status": "completed"
    },
    "tags": []
   },
   "source": [
    "Different from the first graph, we can see two peaks in the graph, one around 6-7 nd the other around 14-15. This is an interesting trend that we will have to watch out for."
   ]
  },
  {
   "cell_type": "code",
   "execution_count": 14,
   "metadata": {
    "execution": {
     "iopub.execute_input": "2020-09-16T02:55:15.993239Z",
     "iopub.status.busy": "2020-09-16T02:55:15.986800Z",
     "iopub.status.idle": "2020-09-16T02:55:16.370691Z",
     "shell.execute_reply": "2020-09-16T02:55:16.370074Z"
    },
    "papermill": {
     "duration": 0.55732,
     "end_time": "2020-09-16T02:55:16.370838",
     "exception": false,
     "start_time": "2020-09-16T02:55:15.813518",
     "status": "completed"
    },
    "tags": []
   },
   "outputs": [
    {
     "data": {
      "text/plain": [
       "Text(0, 0.5, 'Number of People')"
      ]
     },
     "execution_count": 14,
     "metadata": {},
     "output_type": "execute_result"
    },
    {
     "data": {
      "image/png": "[encoded data removed]",
      "text/plain": [
       "<Figure size 432x288 with 1 Axes>"
      ]
     },
     "metadata": {},
     "output_type": "display_data"
    }
   ],
   "source": [
    "train['NameLength'] = train['Name'].apply(lambda x:len(x))\n",
    "\n",
    "counts = []\n",
    "for i in sorted(list(train.NameLength.unique())):\n",
    "    counts.append((train.NameLength == i).sum())\n",
    "plt.bar(sorted(list(train.NameLength.unique())), height = counts)\n",
    "plt.title('Name Lengths')\n",
    "plt.xlabel('Length')\n",
    "plt.ylabel('Number of People')"
   ]
  },
  {
   "cell_type": "markdown",
   "metadata": {
    "papermill": {
     "duration": 0.065356,
     "end_time": "2020-09-16T02:55:16.546926",
     "exception": false,
     "start_time": "2020-09-16T02:55:16.481570",
     "status": "completed"
    },
    "tags": []
   },
   "source": [
    "Here, we see the same curvature, but a high peak around 17-18 and 25. We can the reoccuring double peak from the second graph, but also the overarching \"close to\" normal distribution from the first graph."
   ]
  },
  {
   "cell_type": "markdown",
   "metadata": {
    "papermill": {
     "duration": 0.062605,
     "end_time": "2020-09-16T02:55:16.672335",
     "exception": false,
     "start_time": "2020-09-16T02:55:16.609730",
     "status": "completed"
    },
    "tags": []
   },
   "source": [
    "# **\"Second Name\"**"
   ]
  },
  {
   "cell_type": "markdown",
   "metadata": {
    "papermill": {
     "duration": 0.062768,
     "end_time": "2020-09-16T02:55:16.799262",
     "exception": false,
     "start_time": "2020-09-16T02:55:16.736494",
     "status": "completed"
    },
    "tags": []
   },
   "source": [
    "Another interesting feature that I noticed in the name feature was the presence of a \"second name\", which was denotated by the brackets. This may be an important feature, indicating either higher rank or greater prestige, so I will create a boolean feature to show whether or not this person has a \"second name\" or not."
   ]
  },
  {
   "cell_type": "code",
   "execution_count": 15,
   "metadata": {
    "execution": {
     "iopub.execute_input": "2020-09-16T02:55:16.940370Z",
     "iopub.status.busy": "2020-09-16T02:55:16.939694Z",
     "iopub.status.idle": "2020-09-16T02:55:16.991479Z",
     "shell.execute_reply": "2020-09-16T02:55:16.992046Z"
    },
    "papermill": {
     "duration": 0.129922,
     "end_time": "2020-09-16T02:55:16.992227",
     "exception": false,
     "start_time": "2020-09-16T02:55:16.862305",
     "status": "completed"
    },
    "tags": []
   },
   "outputs": [
    {
     "data": {
      "image/png": "[encoded data removed]",
      "text/plain": [
       "<Figure size 432x288 with 1 Axes>"
      ]
     },
     "metadata": {},
     "output_type": "display_data"
    }
   ],
   "source": [
    "train['SecondName'] = train['Name'].apply(lambda x: True if '(' in x else False)\n",
    "\n",
    "fig1, ax1 = plt.subplots()\n",
    "sizes = []\n",
    "for i in train.SecondName.unique():\n",
    "    sizes.append((train.SecondName==i).sum())\n",
    "ax1.pie(sizes, labels = train.SecondName.unique(),autopct = '%1.1f%%')\n",
    "ax1.axis('equal')\n",
    "plt.show()\n"
   ]
  },
  {
   "cell_type": "code",
   "execution_count": 16,
   "metadata": {
    "execution": {
     "iopub.execute_input": "2020-09-16T02:55:17.124474Z",
     "iopub.status.busy": "2020-09-16T02:55:17.123833Z",
     "iopub.status.idle": "2020-09-16T02:55:17.152820Z",
     "shell.execute_reply": "2020-09-16T02:55:17.152135Z"
    },
    "papermill": {
     "duration": 0.095922,
     "end_time": "2020-09-16T02:55:17.152938",
     "exception": false,
     "start_time": "2020-09-16T02:55:17.057016",
     "status": "completed"
    },
    "tags": []
   },
   "outputs": [
    {
     "data": {
      "text/html": [
       "<div>\n",
       "<style scoped>\n",
       "    .dataframe tbody tr th:only-of-type {\n",
       "        vertical-align: middle;\n",
       "    }\n",
       "\n",
       "    .dataframe tbody tr th {\n",
       "        vertical-align: top;\n",
       "    }\n",
       "\n",
       "    .dataframe thead th {\n",
       "        text-align: right;\n",
       "    }\n",
       "</style>\n",
       "<table border=\"1\" class=\"dataframe\">\n",
       "  <thead>\n",
       "    <tr style=\"text-align: right;\">\n",
       "      <th></th>\n",
       "      <th>PassengerId</th>\n",
       "      <th>Survived</th>\n",
       "      <th>Pclass</th>\n",
       "      <th>Name</th>\n",
       "      <th>Sex</th>\n",
       "      <th>Age</th>\n",
       "      <th>SibSp</th>\n",
       "      <th>Parch</th>\n",
       "      <th>Ticket</th>\n",
       "      <th>Fare</th>\n",
       "      <th>...</th>\n",
       "      <th>Embarked</th>\n",
       "      <th>Pclass_1</th>\n",
       "      <th>Pclass_2</th>\n",
       "      <th>Pclass_3</th>\n",
       "      <th>Titles</th>\n",
       "      <th>SpecialTitle</th>\n",
       "      <th>LastNameLength</th>\n",
       "      <th>FMNameLength</th>\n",
       "      <th>NameLength</th>\n",
       "      <th>SecondName</th>\n",
       "    </tr>\n",
       "  </thead>\n",
       "  <tbody>\n",
       "    <tr>\n",
       "      <th>0</th>\n",
       "      <td>1</td>\n",
       "      <td>0</td>\n",
       "      <td>3</td>\n",
       "      <td>Braund, Mr. Owen Harris</td>\n",
       "      <td>male</td>\n",
       "      <td>22.0</td>\n",
       "      <td>1</td>\n",
       "      <td>0</td>\n",
       "      <td>A/5 21171</td>\n",
       "      <td>7.2500</td>\n",
       "      <td>...</td>\n",
       "      <td>S</td>\n",
       "      <td>0</td>\n",
       "      <td>0</td>\n",
       "      <td>1</td>\n",
       "      <td>11</td>\n",
       "      <td>False</td>\n",
       "      <td>6</td>\n",
       "      <td>12</td>\n",
       "      <td>23</td>\n",
       "      <td>False</td>\n",
       "    </tr>\n",
       "    <tr>\n",
       "      <th>1</th>\n",
       "      <td>2</td>\n",
       "      <td>1</td>\n",
       "      <td>1</td>\n",
       "      <td>Cumings, Mrs. John Bradley (Florence Briggs Th...</td>\n",
       "      <td>female</td>\n",
       "      <td>38.0</td>\n",
       "      <td>1</td>\n",
       "      <td>0</td>\n",
       "      <td>PC 17599</td>\n",
       "      <td>71.2833</td>\n",
       "      <td>...</td>\n",
       "      <td>C</td>\n",
       "      <td>1</td>\n",
       "      <td>0</td>\n",
       "      <td>0</td>\n",
       "      <td>12</td>\n",
       "      <td>False</td>\n",
       "      <td>7</td>\n",
       "      <td>12</td>\n",
       "      <td>51</td>\n",
       "      <td>True</td>\n",
       "    </tr>\n",
       "    <tr>\n",
       "      <th>2</th>\n",
       "      <td>3</td>\n",
       "      <td>1</td>\n",
       "      <td>3</td>\n",
       "      <td>Heikkinen, Miss. Laina</td>\n",
       "      <td>female</td>\n",
       "      <td>26.0</td>\n",
       "      <td>0</td>\n",
       "      <td>0</td>\n",
       "      <td>STON/O2. 3101282</td>\n",
       "      <td>7.9250</td>\n",
       "      <td>...</td>\n",
       "      <td>S</td>\n",
       "      <td>0</td>\n",
       "      <td>0</td>\n",
       "      <td>1</td>\n",
       "      <td>8</td>\n",
       "      <td>False</td>\n",
       "      <td>9</td>\n",
       "      <td>6</td>\n",
       "      <td>22</td>\n",
       "      <td>False</td>\n",
       "    </tr>\n",
       "    <tr>\n",
       "      <th>3</th>\n",
       "      <td>4</td>\n",
       "      <td>1</td>\n",
       "      <td>1</td>\n",
       "      <td>Futrelle, Mrs. Jacques Heath (Lily May Peel)</td>\n",
       "      <td>female</td>\n",
       "      <td>35.0</td>\n",
       "      <td>1</td>\n",
       "      <td>0</td>\n",
       "      <td>113803</td>\n",
       "      <td>53.1000</td>\n",
       "      <td>...</td>\n",
       "      <td>S</td>\n",
       "      <td>1</td>\n",
       "      <td>0</td>\n",
       "      <td>0</td>\n",
       "      <td>12</td>\n",
       "      <td>False</td>\n",
       "      <td>8</td>\n",
       "      <td>13</td>\n",
       "      <td>44</td>\n",
       "      <td>True</td>\n",
       "    </tr>\n",
       "    <tr>\n",
       "      <th>4</th>\n",
       "      <td>5</td>\n",
       "      <td>0</td>\n",
       "      <td>3</td>\n",
       "      <td>Allen, Mr. William Henry</td>\n",
       "      <td>male</td>\n",
       "      <td>35.0</td>\n",
       "      <td>0</td>\n",
       "      <td>0</td>\n",
       "      <td>373450</td>\n",
       "      <td>8.0500</td>\n",
       "      <td>...</td>\n",
       "      <td>S</td>\n",
       "      <td>0</td>\n",
       "      <td>0</td>\n",
       "      <td>1</td>\n",
       "      <td>11</td>\n",
       "      <td>False</td>\n",
       "      <td>5</td>\n",
       "      <td>14</td>\n",
       "      <td>24</td>\n",
       "      <td>False</td>\n",
       "    </tr>\n",
       "  </tbody>\n",
       "</table>\n",
       "<p>5 rows × 21 columns</p>\n",
       "</div>"
      ],
      "text/plain": [
       "   PassengerId  Survived  Pclass  \\\n",
       "0            1         0       3   \n",
       "1            2         1       1   \n",
       "2            3         1       3   \n",
       "3            4         1       1   \n",
       "4            5         0       3   \n",
       "\n",
       "                                                Name     Sex   Age  SibSp  \\\n",
       "0                            Braund, Mr. Owen Harris    male  22.0      1   \n",
       "1  Cumings, Mrs. John Bradley (Florence Briggs Th...  female  38.0      1   \n",
       "2                             Heikkinen, Miss. Laina  female  26.0      0   \n",
       "3       Futrelle, Mrs. Jacques Heath (Lily May Peel)  female  35.0      1   \n",
       "4                           Allen, Mr. William Henry    male  35.0      0   \n",
       "\n",
       "   Parch            Ticket     Fare  ... Embarked Pclass_1  Pclass_2  \\\n",
       "0      0         A/5 21171   7.2500  ...        S        0         0   \n",
       "1      0          PC 17599  71.2833  ...        C        1         0   \n",
       "2      0  STON/O2. 3101282   7.9250  ...        S        0         0   \n",
       "3      0            113803  53.1000  ...        S        1         0   \n",
       "4      0            373450   8.0500  ...        S        0         0   \n",
       "\n",
       "   Pclass_3  Titles  SpecialTitle  LastNameLength  FMNameLength  NameLength  \\\n",
       "0         1      11         False               6            12          23   \n",
       "1         0      12         False               7            12          51   \n",
       "2         1       8         False               9             6          22   \n",
       "3         0      12         False               8            13          44   \n",
       "4         1      11         False               5            14          24   \n",
       "\n",
       "   SecondName  \n",
       "0       False  \n",
       "1        True  \n",
       "2       False  \n",
       "3        True  \n",
       "4       False  \n",
       "\n",
       "[5 rows x 21 columns]"
      ]
     },
     "execution_count": 16,
     "metadata": {},
     "output_type": "execute_result"
    }
   ],
   "source": [
    "train.head()"
   ]
  },
  {
   "cell_type": "markdown",
   "metadata": {
    "papermill": {
     "duration": 0.064018,
     "end_time": "2020-09-16T02:55:17.281492",
     "exception": false,
     "start_time": "2020-09-16T02:55:17.217474",
     "status": "completed"
    },
    "tags": []
   },
   "source": [
    "We can see that almost 16% of the people have a second name. Could be an important factor to consider down the road."
   ]
  },
  {
   "cell_type": "markdown",
   "metadata": {
    "papermill": {
     "duration": 0.06412,
     "end_time": "2020-09-16T02:55:17.410046",
     "exception": false,
     "start_time": "2020-09-16T02:55:17.345926",
     "status": "completed"
    },
    "tags": []
   },
   "source": [
    "# **Sex**"
   ]
  },
  {
   "cell_type": "markdown",
   "metadata": {
    "papermill": {
     "duration": 0.071035,
     "end_time": "2020-09-16T02:55:17.545460",
     "exception": false,
     "start_time": "2020-09-16T02:55:17.474425",
     "status": "completed"
    },
    "tags": []
   },
   "source": [
    "For sex, there is not much we can probe from. The most we can do is assign categorical codes for it. From the pie chart though, it is interesting to see how most of the passengers were male. Maybe the less population of females affected how many of them survived."
   ]
  },
  {
   "cell_type": "code",
   "execution_count": 17,
   "metadata": {
    "execution": {
     "iopub.execute_input": "2020-09-16T02:55:17.693258Z",
     "iopub.status.busy": "2020-09-16T02:55:17.688810Z",
     "iopub.status.idle": "2020-09-16T02:55:17.742527Z",
     "shell.execute_reply": "2020-09-16T02:55:17.743027Z"
    },
    "papermill": {
     "duration": 0.132945,
     "end_time": "2020-09-16T02:55:17.743180",
     "exception": false,
     "start_time": "2020-09-16T02:55:17.610235",
     "status": "completed"
    },
    "tags": []
   },
   "outputs": [
    {
     "data": {
      "image/png": "[encoded data removed]",
      "text/plain": [
       "<Figure size 432x288 with 1 Axes>"
      ]
     },
     "metadata": {},
     "output_type": "display_data"
    }
   ],
   "source": [
    "fig1, ax1 = plt.subplots()\n",
    "sizes = []\n",
    "for i in train.Sex.unique():\n",
    "    sizes.append((train.Sex==i).sum())\n",
    "ax1.pie(sizes, labels = train.Sex.unique(),autopct = '%1.1f%%')\n",
    "ax1.axis('equal')\n",
    "plt.show()\n",
    "\n",
    "train['Sex'] = train['Sex'].astype('category').cat.codes"
   ]
  },
  {
   "cell_type": "markdown",
   "metadata": {
    "papermill": {
     "duration": 0.066398,
     "end_time": "2020-09-16T02:55:17.875851",
     "exception": false,
     "start_time": "2020-09-16T02:55:17.809453",
     "status": "completed"
    },
    "tags": []
   },
   "source": [
    "# **Age**"
   ]
  },
  {
   "cell_type": "markdown",
   "metadata": {
    "papermill": {
     "duration": 0.065755,
     "end_time": "2020-09-16T02:55:18.007750",
     "exception": false,
     "start_time": "2020-09-16T02:55:17.941995",
     "status": "completed"
    },
    "tags": []
   },
   "source": [
    "Age is another simple feature to handle, but we can defenitely find some special features from this. First, we have to remember that age had a lot of null features in it. We want to recognize which one of the age values were null, but at the same time we want to impute a value in so the classifier can learn from that feature. Therefore, we will create a separate \"AgeNull\" feature, which is a boolean feature showing whether or not the element was null. Next, I will impute the mean age into the NaN values, as that will be the best estimate that we can get."
   ]
  },
  {
   "cell_type": "code",
   "execution_count": 18,
   "metadata": {
    "execution": {
     "iopub.execute_input": "2020-09-16T02:55:18.156362Z",
     "iopub.status.busy": "2020-09-16T02:55:18.155004Z",
     "iopub.status.idle": "2020-09-16T02:55:18.296606Z",
     "shell.execute_reply": "2020-09-16T02:55:18.295854Z"
    },
    "papermill": {
     "duration": 0.223325,
     "end_time": "2020-09-16T02:55:18.296748",
     "exception": false,
     "start_time": "2020-09-16T02:55:18.073423",
     "status": "completed"
    },
    "tags": []
   },
   "outputs": [
    {
     "name": "stdout",
     "output_type": "stream",
     "text": [
      "   PassengerId  Survived  Pclass  \\\n",
      "0            1         0       3   \n",
      "1            2         1       1   \n",
      "2            3         1       3   \n",
      "3            4         1       1   \n",
      "4            5         0       3   \n",
      "\n",
      "                                                Name  Sex   Age  SibSp  Parch  \\\n",
      "0                            Braund, Mr. Owen Harris    1  22.0      1      0   \n",
      "1  Cumings, Mrs. John Bradley (Florence Briggs Th...    0  38.0      1      0   \n",
      "2                             Heikkinen, Miss. Laina    0  26.0      0      0   \n",
      "3       Futrelle, Mrs. Jacques Heath (Lily May Peel)    0  35.0      1      0   \n",
      "4                           Allen, Mr. William Henry    1  35.0      0      0   \n",
      "\n",
      "             Ticket     Fare  ... Pclass_1 Pclass_2  Pclass_3  Titles  \\\n",
      "0         A/5 21171   7.2500  ...        0        0         1      11   \n",
      "1          PC 17599  71.2833  ...        1        0         0      12   \n",
      "2  STON/O2. 3101282   7.9250  ...        0        0         1       8   \n",
      "3            113803  53.1000  ...        1        0         0      12   \n",
      "4            373450   8.0500  ...        0        0         1      11   \n",
      "\n",
      "   SpecialTitle  LastNameLength  FMNameLength  NameLength  SecondName  AgeNull  \n",
      "0         False               6            12          23       False    False  \n",
      "1         False               7            12          51        True    False  \n",
      "2         False               9             6          22       False    False  \n",
      "3         False               8            13          44        True    False  \n",
      "4         False               5            14          24       False    False  \n",
      "\n",
      "[5 rows x 22 columns]\n"
     ]
    },
    {
     "data": {
      "image/png": "[encoded data removed]",
      "text/plain": [
       "<Figure size 432x288 with 1 Axes>"
      ]
     },
     "metadata": {},
     "output_type": "display_data"
    }
   ],
   "source": [
    "train['AgeNull'] = train['Age'].apply(lambda x: math.isnan(x))\n",
    "train['Age'] = train['Age'].fillna(train['Age'].mean())\n",
    "\n",
    "plt.boxplot(train.Age)\n",
    "\n",
    "print(train.head(5))"
   ]
  },
  {
   "cell_type": "markdown",
   "metadata": {
    "papermill": {
     "duration": 0.066274,
     "end_time": "2020-09-16T02:55:18.430114",
     "exception": false,
     "start_time": "2020-09-16T02:55:18.363840",
     "status": "completed"
    },
    "tags": []
   },
   "source": [
    "The average age of the people seem to be around 30, but there are a lot of outliers, especially to the top. We defenitely should create a feature to recognize those outliers. Therefore, I will create three more features, separating the age groups into child, adult, and senior. On the Titantic, Senior and Children were given priority when it came to evacuation so it defenitely will be a useful feature to use in the training of this classifier."
   ]
  },
  {
   "cell_type": "code",
   "execution_count": 19,
   "metadata": {
    "execution": {
     "iopub.execute_input": "2020-09-16T02:55:18.580582Z",
     "iopub.status.busy": "2020-09-16T02:55:18.579901Z",
     "iopub.status.idle": "2020-09-16T02:55:18.756555Z",
     "shell.execute_reply": "2020-09-16T02:55:18.755910Z"
    },
    "papermill": {
     "duration": 0.259918,
     "end_time": "2020-09-16T02:55:18.756669",
     "exception": false,
     "start_time": "2020-09-16T02:55:18.496751",
     "status": "completed"
    },
    "tags": []
   },
   "outputs": [
    {
     "data": {
      "text/html": [
       "<div>\n",
       "<style scoped>\n",
       "    .dataframe tbody tr th:only-of-type {\n",
       "        vertical-align: middle;\n",
       "    }\n",
       "\n",
       "    .dataframe tbody tr th {\n",
       "        vertical-align: top;\n",
       "    }\n",
       "\n",
       "    .dataframe thead th {\n",
       "        text-align: right;\n",
       "    }\n",
       "</style>\n",
       "<table border=\"1\" class=\"dataframe\">\n",
       "  <thead>\n",
       "    <tr style=\"text-align: right;\">\n",
       "      <th></th>\n",
       "      <th>PassengerId</th>\n",
       "      <th>Survived</th>\n",
       "      <th>Pclass</th>\n",
       "      <th>Name</th>\n",
       "      <th>Sex</th>\n",
       "      <th>Age</th>\n",
       "      <th>SibSp</th>\n",
       "      <th>Parch</th>\n",
       "      <th>Ticket</th>\n",
       "      <th>Fare</th>\n",
       "      <th>...</th>\n",
       "      <th>Titles</th>\n",
       "      <th>SpecialTitle</th>\n",
       "      <th>LastNameLength</th>\n",
       "      <th>FMNameLength</th>\n",
       "      <th>NameLength</th>\n",
       "      <th>SecondName</th>\n",
       "      <th>AgeNull</th>\n",
       "      <th>Child</th>\n",
       "      <th>Adult</th>\n",
       "      <th>Senior</th>\n",
       "    </tr>\n",
       "  </thead>\n",
       "  <tbody>\n",
       "    <tr>\n",
       "      <th>0</th>\n",
       "      <td>1</td>\n",
       "      <td>0</td>\n",
       "      <td>3</td>\n",
       "      <td>Braund, Mr. Owen Harris</td>\n",
       "      <td>1</td>\n",
       "      <td>22.0</td>\n",
       "      <td>1</td>\n",
       "      <td>0</td>\n",
       "      <td>A/5 21171</td>\n",
       "      <td>7.2500</td>\n",
       "      <td>...</td>\n",
       "      <td>11</td>\n",
       "      <td>False</td>\n",
       "      <td>6</td>\n",
       "      <td>12</td>\n",
       "      <td>23</td>\n",
       "      <td>False</td>\n",
       "      <td>False</td>\n",
       "      <td>False</td>\n",
       "      <td>True</td>\n",
       "      <td>False</td>\n",
       "    </tr>\n",
       "    <tr>\n",
       "      <th>1</th>\n",
       "      <td>2</td>\n",
       "      <td>1</td>\n",
       "      <td>1</td>\n",
       "      <td>Cumings, Mrs. John Bradley (Florence Briggs Th...</td>\n",
       "      <td>0</td>\n",
       "      <td>38.0</td>\n",
       "      <td>1</td>\n",
       "      <td>0</td>\n",
       "      <td>PC 17599</td>\n",
       "      <td>71.2833</td>\n",
       "      <td>...</td>\n",
       "      <td>12</td>\n",
       "      <td>False</td>\n",
       "      <td>7</td>\n",
       "      <td>12</td>\n",
       "      <td>51</td>\n",
       "      <td>True</td>\n",
       "      <td>False</td>\n",
       "      <td>False</td>\n",
       "      <td>True</td>\n",
       "      <td>False</td>\n",
       "    </tr>\n",
       "    <tr>\n",
       "      <th>2</th>\n",
       "      <td>3</td>\n",
       "      <td>1</td>\n",
       "      <td>3</td>\n",
       "      <td>Heikkinen, Miss. Laina</td>\n",
       "      <td>0</td>\n",
       "      <td>26.0</td>\n",
       "      <td>0</td>\n",
       "      <td>0</td>\n",
       "      <td>STON/O2. 3101282</td>\n",
       "      <td>7.9250</td>\n",
       "      <td>...</td>\n",
       "      <td>8</td>\n",
       "      <td>False</td>\n",
       "      <td>9</td>\n",
       "      <td>6</td>\n",
       "      <td>22</td>\n",
       "      <td>False</td>\n",
       "      <td>False</td>\n",
       "      <td>False</td>\n",
       "      <td>True</td>\n",
       "      <td>False</td>\n",
       "    </tr>\n",
       "    <tr>\n",
       "      <th>3</th>\n",
       "      <td>4</td>\n",
       "      <td>1</td>\n",
       "      <td>1</td>\n",
       "      <td>Futrelle, Mrs. Jacques Heath (Lily May Peel)</td>\n",
       "      <td>0</td>\n",
       "      <td>35.0</td>\n",
       "      <td>1</td>\n",
       "      <td>0</td>\n",
       "      <td>113803</td>\n",
       "      <td>53.1000</td>\n",
       "      <td>...</td>\n",
       "      <td>12</td>\n",
       "      <td>False</td>\n",
       "      <td>8</td>\n",
       "      <td>13</td>\n",
       "      <td>44</td>\n",
       "      <td>True</td>\n",
       "      <td>False</td>\n",
       "      <td>False</td>\n",
       "      <td>True</td>\n",
       "      <td>False</td>\n",
       "    </tr>\n",
       "    <tr>\n",
       "      <th>4</th>\n",
       "      <td>5</td>\n",
       "      <td>0</td>\n",
       "      <td>3</td>\n",
       "      <td>Allen, Mr. William Henry</td>\n",
       "      <td>1</td>\n",
       "      <td>35.0</td>\n",
       "      <td>0</td>\n",
       "      <td>0</td>\n",
       "      <td>373450</td>\n",
       "      <td>8.0500</td>\n",
       "      <td>...</td>\n",
       "      <td>11</td>\n",
       "      <td>False</td>\n",
       "      <td>5</td>\n",
       "      <td>14</td>\n",
       "      <td>24</td>\n",
       "      <td>False</td>\n",
       "      <td>False</td>\n",
       "      <td>False</td>\n",
       "      <td>True</td>\n",
       "      <td>False</td>\n",
       "    </tr>\n",
       "  </tbody>\n",
       "</table>\n",
       "<p>5 rows × 25 columns</p>\n",
       "</div>"
      ],
      "text/plain": [
       "   PassengerId  Survived  Pclass  \\\n",
       "0            1         0       3   \n",
       "1            2         1       1   \n",
       "2            3         1       3   \n",
       "3            4         1       1   \n",
       "4            5         0       3   \n",
       "\n",
       "                                                Name  Sex   Age  SibSp  Parch  \\\n",
       "0                            Braund, Mr. Owen Harris    1  22.0      1      0   \n",
       "1  Cumings, Mrs. John Bradley (Florence Briggs Th...    0  38.0      1      0   \n",
       "2                             Heikkinen, Miss. Laina    0  26.0      0      0   \n",
       "3       Futrelle, Mrs. Jacques Heath (Lily May Peel)    0  35.0      1      0   \n",
       "4                           Allen, Mr. William Henry    1  35.0      0      0   \n",
       "\n",
       "             Ticket     Fare  ... Titles SpecialTitle  LastNameLength  \\\n",
       "0         A/5 21171   7.2500  ...     11        False               6   \n",
       "1          PC 17599  71.2833  ...     12        False               7   \n",
       "2  STON/O2. 3101282   7.9250  ...      8        False               9   \n",
       "3            113803  53.1000  ...     12        False               8   \n",
       "4            373450   8.0500  ...     11        False               5   \n",
       "\n",
       "   FMNameLength  NameLength  SecondName  AgeNull  Child  Adult  Senior  \n",
       "0            12          23       False    False  False   True   False  \n",
       "1            12          51        True    False  False   True   False  \n",
       "2             6          22       False    False  False   True   False  \n",
       "3            13          44        True    False  False   True   False  \n",
       "4            14          24       False    False  False   True   False  \n",
       "\n",
       "[5 rows x 25 columns]"
      ]
     },
     "execution_count": 19,
     "metadata": {},
     "output_type": "execute_result"
    },
    {
     "data": {
      "image/png": "[encoded data removed]",
      "text/plain": [
       "<Figure size 432x288 with 1 Axes>"
      ]
     },
     "metadata": {},
     "output_type": "display_data"
    }
   ],
   "source": [
    "train['Child'] = train['Age'].apply(lambda x: True if x < 18 else False)\n",
    "train['Adult'] = train['Age'].apply(lambda x: True if x >= 18 and x < 65 else False)\n",
    "train['Senior'] = train['Age'].apply(lambda x: True if x >= 65 else False)\n",
    "\n",
    "plt.bar(['Child','Adult','Senior'], height = [(train.Child == True).sum(), (train.Adult == True).sum(), (train.Senior == True).sum()])\n",
    "plt.title('Number of People Based on Age Groups')\n",
    "plt.xlabel('Age Groups')\n",
    "plt.ylabel('Number of People')\n",
    "\n",
    "train.head()"
   ]
  },
  {
   "cell_type": "markdown",
   "metadata": {
    "papermill": {
     "duration": 0.068668,
     "end_time": "2020-09-16T02:55:18.894108",
     "exception": false,
     "start_time": "2020-09-16T02:55:18.825440",
     "status": "completed"
    },
    "tags": []
   },
   "source": [
    "As we can see there are a lot more adults than there are seniors and children combined, which may be a good distinctive feature."
   ]
  },
  {
   "cell_type": "markdown",
   "metadata": {
    "papermill": {
     "duration": 0.068352,
     "end_time": "2020-09-16T02:55:19.031599",
     "exception": false,
     "start_time": "2020-09-16T02:55:18.963247",
     "status": "completed"
    },
    "tags": []
   },
   "source": [
    "Finally, I will create an 'estimated age' feature. In the documentation of this data, it is stated that if the age ends in .5, the age was estimated. This will be another feature that we can extract that may prove to be useful in the future."
   ]
  },
  {
   "cell_type": "code",
   "execution_count": 20,
   "metadata": {
    "execution": {
     "iopub.execute_input": "2020-09-16T02:55:19.179117Z",
     "iopub.status.busy": "2020-09-16T02:55:19.178449Z",
     "iopub.status.idle": "2020-09-16T02:55:19.233496Z",
     "shell.execute_reply": "2020-09-16T02:55:19.233974Z"
    },
    "papermill": {
     "duration": 0.134303,
     "end_time": "2020-09-16T02:55:19.234127",
     "exception": false,
     "start_time": "2020-09-16T02:55:19.099824",
     "status": "completed"
    },
    "tags": []
   },
   "outputs": [
    {
     "data": {
      "image/png": "[encoded data removed]",
      "text/plain": [
       "<Figure size 432x288 with 1 Axes>"
      ]
     },
     "metadata": {},
     "output_type": "display_data"
    }
   ],
   "source": [
    "train['EstimatedAge'] = train['Age'].apply(lambda x: True if round(x) != x else False)\n",
    "\n",
    "fig1, ax1 = plt.subplots()\n",
    "sizes = []\n",
    "for i in train.EstimatedAge.unique():\n",
    "    sizes.append((train.EstimatedAge==i).sum())\n",
    "ax1.pie(sizes, labels = train.EstimatedAge.unique(),autopct = '%1.1f%%')\n",
    "ax1.axis('equal')\n",
    "plt.show()"
   ]
  },
  {
   "cell_type": "markdown",
   "metadata": {
    "papermill": {
     "duration": 0.069524,
     "end_time": "2020-09-16T02:55:19.373322",
     "exception": false,
     "start_time": "2020-09-16T02:55:19.303798",
     "status": "completed"
    },
    "tags": []
   },
   "source": [
    "# **SibSp and Parch**"
   ]
  },
  {
   "cell_type": "markdown",
   "metadata": {
    "papermill": {
     "duration": 0.07132,
     "end_time": "2020-09-16T02:55:19.514359",
     "exception": false,
     "start_time": "2020-09-16T02:55:19.443039",
     "status": "completed"
    },
    "tags": []
   },
   "source": [
    "SibSp and Parch are two features that are closely interrelated. SibSp, representing siblings and spouses, and parch, representing parents and children, can be combined to find the total members of the family aboard the ship, disincluding themselves. Having less family members may increase the chances of survival because they don't have family to care for."
   ]
  },
  {
   "cell_type": "code",
   "execution_count": 21,
   "metadata": {
    "execution": {
     "iopub.execute_input": "2020-09-16T02:55:19.657005Z",
     "iopub.status.busy": "2020-09-16T02:55:19.656349Z",
     "iopub.status.idle": "2020-09-16T02:55:19.685491Z",
     "shell.execute_reply": "2020-09-16T02:55:19.685982Z"
    },
    "papermill": {
     "duration": 0.102627,
     "end_time": "2020-09-16T02:55:19.686137",
     "exception": false,
     "start_time": "2020-09-16T02:55:19.583510",
     "status": "completed"
    },
    "tags": []
   },
   "outputs": [
    {
     "data": {
      "text/html": [
       "<div>\n",
       "<style scoped>\n",
       "    .dataframe tbody tr th:only-of-type {\n",
       "        vertical-align: middle;\n",
       "    }\n",
       "\n",
       "    .dataframe tbody tr th {\n",
       "        vertical-align: top;\n",
       "    }\n",
       "\n",
       "    .dataframe thead th {\n",
       "        text-align: right;\n",
       "    }\n",
       "</style>\n",
       "<table border=\"1\" class=\"dataframe\">\n",
       "  <thead>\n",
       "    <tr style=\"text-align: right;\">\n",
       "      <th></th>\n",
       "      <th>PassengerId</th>\n",
       "      <th>Survived</th>\n",
       "      <th>Pclass</th>\n",
       "      <th>Name</th>\n",
       "      <th>Sex</th>\n",
       "      <th>Age</th>\n",
       "      <th>SibSp</th>\n",
       "      <th>Parch</th>\n",
       "      <th>Ticket</th>\n",
       "      <th>Fare</th>\n",
       "      <th>...</th>\n",
       "      <th>LastNameLength</th>\n",
       "      <th>FMNameLength</th>\n",
       "      <th>NameLength</th>\n",
       "      <th>SecondName</th>\n",
       "      <th>AgeNull</th>\n",
       "      <th>Child</th>\n",
       "      <th>Adult</th>\n",
       "      <th>Senior</th>\n",
       "      <th>EstimatedAge</th>\n",
       "      <th>Family</th>\n",
       "    </tr>\n",
       "  </thead>\n",
       "  <tbody>\n",
       "    <tr>\n",
       "      <th>0</th>\n",
       "      <td>1</td>\n",
       "      <td>0</td>\n",
       "      <td>3</td>\n",
       "      <td>Braund, Mr. Owen Harris</td>\n",
       "      <td>1</td>\n",
       "      <td>22.0</td>\n",
       "      <td>1</td>\n",
       "      <td>0</td>\n",
       "      <td>A/5 21171</td>\n",
       "      <td>7.2500</td>\n",
       "      <td>...</td>\n",
       "      <td>6</td>\n",
       "      <td>12</td>\n",
       "      <td>23</td>\n",
       "      <td>False</td>\n",
       "      <td>False</td>\n",
       "      <td>False</td>\n",
       "      <td>True</td>\n",
       "      <td>False</td>\n",
       "      <td>False</td>\n",
       "      <td>1</td>\n",
       "    </tr>\n",
       "    <tr>\n",
       "      <th>1</th>\n",
       "      <td>2</td>\n",
       "      <td>1</td>\n",
       "      <td>1</td>\n",
       "      <td>Cumings, Mrs. John Bradley (Florence Briggs Th...</td>\n",
       "      <td>0</td>\n",
       "      <td>38.0</td>\n",
       "      <td>1</td>\n",
       "      <td>0</td>\n",
       "      <td>PC 17599</td>\n",
       "      <td>71.2833</td>\n",
       "      <td>...</td>\n",
       "      <td>7</td>\n",
       "      <td>12</td>\n",
       "      <td>51</td>\n",
       "      <td>True</td>\n",
       "      <td>False</td>\n",
       "      <td>False</td>\n",
       "      <td>True</td>\n",
       "      <td>False</td>\n",
       "      <td>False</td>\n",
       "      <td>1</td>\n",
       "    </tr>\n",
       "    <tr>\n",
       "      <th>2</th>\n",
       "      <td>3</td>\n",
       "      <td>1</td>\n",
       "      <td>3</td>\n",
       "      <td>Heikkinen, Miss. Laina</td>\n",
       "      <td>0</td>\n",
       "      <td>26.0</td>\n",
       "      <td>0</td>\n",
       "      <td>0</td>\n",
       "      <td>STON/O2. 3101282</td>\n",
       "      <td>7.9250</td>\n",
       "      <td>...</td>\n",
       "      <td>9</td>\n",
       "      <td>6</td>\n",
       "      <td>22</td>\n",
       "      <td>False</td>\n",
       "      <td>False</td>\n",
       "      <td>False</td>\n",
       "      <td>True</td>\n",
       "      <td>False</td>\n",
       "      <td>False</td>\n",
       "      <td>0</td>\n",
       "    </tr>\n",
       "    <tr>\n",
       "      <th>3</th>\n",
       "      <td>4</td>\n",
       "      <td>1</td>\n",
       "      <td>1</td>\n",
       "      <td>Futrelle, Mrs. Jacques Heath (Lily May Peel)</td>\n",
       "      <td>0</td>\n",
       "      <td>35.0</td>\n",
       "      <td>1</td>\n",
       "      <td>0</td>\n",
       "      <td>113803</td>\n",
       "      <td>53.1000</td>\n",
       "      <td>...</td>\n",
       "      <td>8</td>\n",
       "      <td>13</td>\n",
       "      <td>44</td>\n",
       "      <td>True</td>\n",
       "      <td>False</td>\n",
       "      <td>False</td>\n",
       "      <td>True</td>\n",
       "      <td>False</td>\n",
       "      <td>False</td>\n",
       "      <td>1</td>\n",
       "    </tr>\n",
       "    <tr>\n",
       "      <th>4</th>\n",
       "      <td>5</td>\n",
       "      <td>0</td>\n",
       "      <td>3</td>\n",
       "      <td>Allen, Mr. William Henry</td>\n",
       "      <td>1</td>\n",
       "      <td>35.0</td>\n",
       "      <td>0</td>\n",
       "      <td>0</td>\n",
       "      <td>373450</td>\n",
       "      <td>8.0500</td>\n",
       "      <td>...</td>\n",
       "      <td>5</td>\n",
       "      <td>14</td>\n",
       "      <td>24</td>\n",
       "      <td>False</td>\n",
       "      <td>False</td>\n",
       "      <td>False</td>\n",
       "      <td>True</td>\n",
       "      <td>False</td>\n",
       "      <td>False</td>\n",
       "      <td>0</td>\n",
       "    </tr>\n",
       "  </tbody>\n",
       "</table>\n",
       "<p>5 rows × 27 columns</p>\n",
       "</div>"
      ],
      "text/plain": [
       "   PassengerId  Survived  Pclass  \\\n",
       "0            1         0       3   \n",
       "1            2         1       1   \n",
       "2            3         1       3   \n",
       "3            4         1       1   \n",
       "4            5         0       3   \n",
       "\n",
       "                                                Name  Sex   Age  SibSp  Parch  \\\n",
       "0                            Braund, Mr. Owen Harris    1  22.0      1      0   \n",
       "1  Cumings, Mrs. John Bradley (Florence Briggs Th...    0  38.0      1      0   \n",
       "2                             Heikkinen, Miss. Laina    0  26.0      0      0   \n",
       "3       Futrelle, Mrs. Jacques Heath (Lily May Peel)    0  35.0      1      0   \n",
       "4                           Allen, Mr. William Henry    1  35.0      0      0   \n",
       "\n",
       "             Ticket     Fare  ... LastNameLength FMNameLength  NameLength  \\\n",
       "0         A/5 21171   7.2500  ...              6           12          23   \n",
       "1          PC 17599  71.2833  ...              7           12          51   \n",
       "2  STON/O2. 3101282   7.9250  ...              9            6          22   \n",
       "3            113803  53.1000  ...              8           13          44   \n",
       "4            373450   8.0500  ...              5           14          24   \n",
       "\n",
       "   SecondName  AgeNull  Child  Adult  Senior  EstimatedAge  Family  \n",
       "0       False    False  False   True   False         False       1  \n",
       "1        True    False  False   True   False         False       1  \n",
       "2       False    False  False   True   False         False       0  \n",
       "3        True    False  False   True   False         False       1  \n",
       "4       False    False  False   True   False         False       0  \n",
       "\n",
       "[5 rows x 27 columns]"
      ]
     },
     "execution_count": 21,
     "metadata": {},
     "output_type": "execute_result"
    }
   ],
   "source": [
    "train['Family'] = train['SibSp'] + train['Parch']\n",
    "\n",
    "train.head()"
   ]
  },
  {
   "cell_type": "code",
   "execution_count": 22,
   "metadata": {
    "execution": {
     "iopub.execute_input": "2020-09-16T02:55:19.831629Z",
     "iopub.status.busy": "2020-09-16T02:55:19.830957Z",
     "iopub.status.idle": "2020-09-16T02:55:20.126436Z",
     "shell.execute_reply": "2020-09-16T02:55:20.126916Z"
    },
    "papermill": {
     "duration": 0.370652,
     "end_time": "2020-09-16T02:55:20.127097",
     "exception": false,
     "start_time": "2020-09-16T02:55:19.756445",
     "status": "completed"
    },
    "tags": []
   },
   "outputs": [
    {
     "data": {
      "text/plain": [
       "Text(0, 0.5, 'Number of People')"
      ]
     },
     "execution_count": 22,
     "metadata": {},
     "output_type": "execute_result"
    },
    {
     "data": {
      "image/png": "[encoded data removed]",
      "text/plain": [
       "<Figure size 432x288 with 1 Axes>"
      ]
     },
     "metadata": {},
     "output_type": "display_data"
    }
   ],
   "source": [
    "counts = []\n",
    "for i in sorted(list(train.Family.unique())):\n",
    "    counts.append((train.Family == i).sum())\n",
    "plt.bar(sorted(list(train.Family.unique())), height = counts)\n",
    "plt.title('Family Members Excluding Oneself')\n",
    "plt.xlabel('Count')\n",
    "plt.ylabel('Number of People')"
   ]
  },
  {
   "cell_type": "markdown",
   "metadata": {
    "papermill": {
     "duration": 0.071108,
     "end_time": "2020-09-16T02:55:20.269599",
     "exception": false,
     "start_time": "2020-09-16T02:55:20.198491",
     "status": "completed"
    },
    "tags": []
   },
   "source": [
    "As we can see the data is heavily skewed the right but there are some of those people who have large amounts of family members, such as that one person who has 10. These people may be less likely to survive, especailly if they are parents, in an attempt to save their children."
   ]
  },
  {
   "cell_type": "markdown",
   "metadata": {
    "papermill": {
     "duration": 0.07106,
     "end_time": "2020-09-16T02:55:20.414943",
     "exception": false,
     "start_time": "2020-09-16T02:55:20.343883",
     "status": "completed"
    },
    "tags": []
   },
   "source": [
    "Let's analyze the SibSp and Parch data before we move on."
   ]
  },
  {
   "cell_type": "code",
   "execution_count": 23,
   "metadata": {
    "execution": {
     "iopub.execute_input": "2020-09-16T02:55:20.561384Z",
     "iopub.status.busy": "2020-09-16T02:55:20.560690Z",
     "iopub.status.idle": "2020-09-16T02:55:20.840282Z",
     "shell.execute_reply": "2020-09-16T02:55:20.840782Z"
    },
    "papermill": {
     "duration": 0.354932,
     "end_time": "2020-09-16T02:55:20.840940",
     "exception": false,
     "start_time": "2020-09-16T02:55:20.486008",
     "status": "completed"
    },
    "tags": []
   },
   "outputs": [
    {
     "data": {
      "text/plain": [
       "Text(0, 0.5, 'Number of People')"
      ]
     },
     "execution_count": 23,
     "metadata": {},
     "output_type": "execute_result"
    },
    {
     "data": {
      "image/png": "[encoded data removed]",
      "text/plain": [
       "<Figure size 432x288 with 1 Axes>"
      ]
     },
     "metadata": {},
     "output_type": "display_data"
    }
   ],
   "source": [
    "counts = []\n",
    "for i in sorted(list(train.SibSp.unique())):\n",
    "    counts.append((train.SibSp == i).sum())\n",
    "plt.bar(sorted(list(train.SibSp.unique())), height = counts)\n",
    "plt.title('Siblings and Spouses')\n",
    "plt.xlabel('Count')\n",
    "plt.ylabel('Number of People')"
   ]
  },
  {
   "cell_type": "code",
   "execution_count": 24,
   "metadata": {
    "execution": {
     "iopub.execute_input": "2020-09-16T02:55:20.991340Z",
     "iopub.status.busy": "2020-09-16T02:55:20.990548Z",
     "iopub.status.idle": "2020-09-16T02:55:21.298988Z",
     "shell.execute_reply": "2020-09-16T02:55:21.299500Z"
    },
    "papermill": {
     "duration": 0.385154,
     "end_time": "2020-09-16T02:55:21.299666",
     "exception": false,
     "start_time": "2020-09-16T02:55:20.914512",
     "status": "completed"
    },
    "tags": []
   },
   "outputs": [
    {
     "data": {
      "text/plain": [
       "Text(0, 0.5, 'Number of People')"
      ]
     },
     "execution_count": 24,
     "metadata": {},
     "output_type": "execute_result"
    },
    {
     "data": {
      "image/png": "[encoded data removed]",
      "text/plain": [
       "<Figure size 432x288 with 1 Axes>"
      ]
     },
     "metadata": {},
     "output_type": "display_data"
    }
   ],
   "source": [
    "counts = []\n",
    "for i in sorted(list(train.Parch.unique())):\n",
    "    counts.append((train.Parch == i).sum())\n",
    "plt.bar(sorted(list(train.Parch.unique())), height = counts)\n",
    "plt.title('Parents and Children')\n",
    "plt.xlabel('Count')\n",
    "plt.ylabel('Number of People')"
   ]
  },
  {
   "cell_type": "markdown",
   "metadata": {
    "papermill": {
     "duration": 0.074706,
     "end_time": "2020-09-16T02:55:21.449028",
     "exception": false,
     "start_time": "2020-09-16T02:55:21.374322",
     "status": "completed"
    },
    "tags": []
   },
   "source": [
    "For both of these graphs, we can see a high percentage of people having 0 parents, children, spouses, or siblings. Therefore, these may not be the best discriminating factors. "
   ]
  },
  {
   "cell_type": "markdown",
   "metadata": {
    "papermill": {
     "duration": 0.074562,
     "end_time": "2020-09-16T02:55:21.597205",
     "exception": false,
     "start_time": "2020-09-16T02:55:21.522643",
     "status": "completed"
    },
    "tags": []
   },
   "source": [
    "One last interesting feature I can create is from the documentation from the data. It stated how children who have parch as 0 may be travelling with a nanny. It would be helpful to identify these kids, as they may be more likely to be clueless to the events around them without a proper parent taking care of them."
   ]
  },
  {
   "cell_type": "code",
   "execution_count": 25,
   "metadata": {
    "execution": {
     "iopub.execute_input": "2020-09-16T02:55:21.753531Z",
     "iopub.status.busy": "2020-09-16T02:55:21.752786Z",
     "iopub.status.idle": "2020-09-16T02:55:21.850893Z",
     "shell.execute_reply": "2020-09-16T02:55:21.851390Z"
    },
    "papermill": {
     "duration": 0.179168,
     "end_time": "2020-09-16T02:55:21.851553",
     "exception": false,
     "start_time": "2020-09-16T02:55:21.672385",
     "status": "completed"
    },
    "tags": []
   },
   "outputs": [
    {
     "name": "stdout",
     "output_type": "stream",
     "text": [
      "   PassengerId  Survived  Pclass  \\\n",
      "0            1         0       3   \n",
      "1            2         1       1   \n",
      "2            3         1       3   \n",
      "3            4         1       1   \n",
      "4            5         0       3   \n",
      "\n",
      "                                                Name  Sex   Age  SibSp  Parch  \\\n",
      "0                            Braund, Mr. Owen Harris    1  22.0      1      0   \n",
      "1  Cumings, Mrs. John Bradley (Florence Briggs Th...    0  38.0      1      0   \n",
      "2                             Heikkinen, Miss. Laina    0  26.0      0      0   \n",
      "3       Futrelle, Mrs. Jacques Heath (Lily May Peel)    0  35.0      1      0   \n",
      "4                           Allen, Mr. William Henry    1  35.0      0      0   \n",
      "\n",
      "             Ticket     Fare  ... FMNameLength NameLength  SecondName  \\\n",
      "0         A/5 21171   7.2500  ...           12         23       False   \n",
      "1          PC 17599  71.2833  ...           12         51        True   \n",
      "2  STON/O2. 3101282   7.9250  ...            6         22       False   \n",
      "3            113803  53.1000  ...           13         44        True   \n",
      "4            373450   8.0500  ...           14         24       False   \n",
      "\n",
      "   AgeNull  Child  Adult  Senior  EstimatedAge  Family  Nanny  \n",
      "0    False  False   True   False         False       1  False  \n",
      "1    False  False   True   False         False       1  False  \n",
      "2    False  False   True   False         False       0  False  \n",
      "3    False  False   True   False         False       1  False  \n",
      "4    False  False   True   False         False       0  False  \n",
      "\n",
      "[5 rows x 28 columns]\n"
     ]
    },
    {
     "data": {
      "image/png": "[encoded data removed]",
      "text/plain": [
       "<Figure size 432x288 with 1 Axes>"
      ]
     },
     "metadata": {},
     "output_type": "display_data"
    }
   ],
   "source": [
    "nanny = []\n",
    "for i in range(0,len(train)):\n",
    "    if (train['Parch'][i] ==0 and train['Age'][i] < 18):\n",
    "        nanny.append(True)\n",
    "    else:\n",
    "        nanny.append(False)\n",
    "train['Nanny'] = nanny\n",
    "\n",
    "print(train.head())\n",
    "\n",
    "fig1, ax1 = plt.subplots()\n",
    "sizes = []\n",
    "for i in train.Nanny.unique():\n",
    "    sizes.append((train.Nanny==i).sum())\n",
    "ax1.pie(sizes, labels = train.Nanny.unique(),autopct = '%1.1f%%')\n",
    "ax1.axis('equal')\n",
    "plt.show()"
   ]
  },
  {
   "cell_type": "markdown",
   "metadata": {
    "papermill": {
     "duration": 0.075486,
     "end_time": "2020-09-16T02:55:22.004015",
     "exception": false,
     "start_time": "2020-09-16T02:55:21.928529",
     "status": "completed"
    },
    "tags": []
   },
   "source": [
    "Seems like the percentages of this is very small and insignificant, but still could be an important factor."
   ]
  },
  {
   "cell_type": "markdown",
   "metadata": {
    "papermill": {
     "duration": 0.074909,
     "end_time": "2020-09-16T02:55:22.154206",
     "exception": false,
     "start_time": "2020-09-16T02:55:22.079297",
     "status": "completed"
    },
    "tags": []
   },
   "source": [
    "# **Tickets**"
   ]
  },
  {
   "cell_type": "markdown",
   "metadata": {
    "papermill": {
     "duration": 0.07599,
     "end_time": "2020-09-16T02:55:22.306485",
     "exception": false,
     "start_time": "2020-09-16T02:55:22.230495",
     "status": "completed"
    },
    "tags": []
   },
   "source": [
    "Next we will take a look at tickets. This a more complicated feature because there are a lot of variation in the data and contains a combination of letters and numbers. This is defenitely going to one of the more complicated features we have to deal with."
   ]
  },
  {
   "cell_type": "code",
   "execution_count": 26,
   "metadata": {
    "execution": {
     "iopub.execute_input": "2020-09-16T02:55:22.466933Z",
     "iopub.status.busy": "2020-09-16T02:55:22.466172Z",
     "iopub.status.idle": "2020-09-16T02:55:22.470883Z",
     "shell.execute_reply": "2020-09-16T02:55:22.470308Z"
    },
    "papermill": {
     "duration": 0.088668,
     "end_time": "2020-09-16T02:55:22.471004",
     "exception": false,
     "start_time": "2020-09-16T02:55:22.382336",
     "status": "completed"
    },
    "tags": []
   },
   "outputs": [
    {
     "data": {
      "text/plain": [
       "0           A/5 21171\n",
       "1            PC 17599\n",
       "2    STON/O2. 3101282\n",
       "3              113803\n",
       "4              373450\n",
       "Name: Ticket, dtype: object"
      ]
     },
     "execution_count": 26,
     "metadata": {},
     "output_type": "execute_result"
    }
   ],
   "source": [
    "train.Ticket[:5]"
   ]
  },
  {
   "cell_type": "markdown",
   "metadata": {
    "papermill": {
     "duration": 0.075162,
     "end_time": "2020-09-16T02:55:22.622780",
     "exception": false,
     "start_time": "2020-09-16T02:55:22.547618",
     "status": "completed"
    },
    "tags": []
   },
   "source": [
    "So as we can see the tickets may or may no have a prefix, with letters and then following it with numbers behind it. We want to split this into two separate features."
   ]
  },
  {
   "cell_type": "code",
   "execution_count": 27,
   "metadata": {
    "execution": {
     "iopub.execute_input": "2020-09-16T02:55:22.800612Z",
     "iopub.status.busy": "2020-09-16T02:55:22.795316Z",
     "iopub.status.idle": "2020-09-16T02:55:22.814365Z",
     "shell.execute_reply": "2020-09-16T02:55:22.813490Z"
    },
    "papermill": {
     "duration": 0.115943,
     "end_time": "2020-09-16T02:55:22.814530",
     "exception": false,
     "start_time": "2020-09-16T02:55:22.698587",
     "status": "completed"
    },
    "tags": []
   },
   "outputs": [
    {
     "name": "stdout",
     "output_type": "stream",
     "text": [
      "['21171', '17599', '3101282', '113803', '373450']\n",
      "['A/5', 'PC', 'STON/O2.', '', '']\n"
     ]
    }
   ],
   "source": [
    "nums = []\n",
    "prefix = []\n",
    "for i in range(len(train.Ticket)):\n",
    "    space = train['Ticket'][i].find(' ')\n",
    "    if space != -1:\n",
    "        prefix.append(train['Ticket'][i][:space])\n",
    "    else:\n",
    "        prefix.append('')\n",
    "    if space != 0:\n",
    "        nums.append(train['Ticket'][i][space+1:])\n",
    "    else:\n",
    "        nums.append(train['Ticket'][i])\n",
    "\n",
    "print(nums[:5])\n",
    "\n",
    "print(prefix[:5])"
   ]
  },
  {
   "cell_type": "markdown",
   "metadata": {
    "papermill": {
     "duration": 0.076355,
     "end_time": "2020-09-16T02:55:22.967269",
     "exception": false,
     "start_time": "2020-09-16T02:55:22.890914",
     "status": "completed"
    },
    "tags": []
   },
   "source": [
    "As you can see, we worked this out pretty nicely. But there is still a couple things we have to sort through. For the prefix list, there are a lot of very similar prefixs that could be due to spelling errors, such as A/5 vs A./5. I will combine all these by taking out all punctuation in the strings and then making them all uppercase. (Note: The '' denote that there are no prefixes in the string.)"
   ]
  },
  {
   "cell_type": "code",
   "execution_count": 28,
   "metadata": {
    "execution": {
     "iopub.execute_input": "2020-09-16T02:55:23.124734Z",
     "iopub.status.busy": "2020-09-16T02:55:23.123728Z",
     "iopub.status.idle": "2020-09-16T02:55:23.146320Z",
     "shell.execute_reply": "2020-09-16T02:55:23.146803Z"
    },
    "papermill": {
     "duration": 0.102736,
     "end_time": "2020-09-16T02:55:23.146978",
     "exception": false,
     "start_time": "2020-09-16T02:55:23.044242",
     "status": "completed"
    },
    "tags": []
   },
   "outputs": [
    {
     "data": {
      "text/plain": [
       "['A5', 'PC', 'STONO2', '', '']"
      ]
     },
     "execution_count": 28,
     "metadata": {},
     "output_type": "execute_result"
    }
   ],
   "source": [
    "punc = '''!()-[]{};:'\"\\, <>./?@#$%^&*_~'''\n",
    "for pre in range (len(prefix)):\n",
    "    for p in range (len(punc)):\n",
    "        prefix[pre] = prefix[pre].replace(punc[p],'').upper()\n",
    "        \n",
    "prefix[:5]"
   ]
  },
  {
   "cell_type": "markdown",
   "metadata": {
    "papermill": {
     "duration": 0.077377,
     "end_time": "2020-09-16T02:55:23.301386",
     "exception": false,
     "start_time": "2020-09-16T02:55:23.224009",
     "status": "completed"
    },
    "tags": []
   },
   "source": [
    "Now with the numbers, there were several glithces in our algorithm. These include the end of the prefixes containing 2, for example. These are things that I have to replace and turn the astype to an integer."
   ]
  },
  {
   "cell_type": "code",
   "execution_count": 29,
   "metadata": {
    "execution": {
     "iopub.execute_input": "2020-09-16T02:55:23.478671Z",
     "iopub.status.busy": "2020-09-16T02:55:23.477974Z",
     "iopub.status.idle": "2020-09-16T02:55:23.486749Z",
     "shell.execute_reply": "2020-09-16T02:55:23.485963Z"
    },
    "papermill": {
     "duration": 0.107538,
     "end_time": "2020-09-16T02:55:23.486899",
     "exception": false,
     "start_time": "2020-09-16T02:55:23.379361",
     "status": "completed"
    },
    "tags": []
   },
   "outputs": [
    {
     "name": "stdout",
     "output_type": "stream",
     "text": [
      "['21171', '17599', '3101282', '113803', '373450']\n"
     ]
    }
   ],
   "source": [
    "for i in range (len(nums)):\n",
    "    if '2. ' in nums[i]:\n",
    "        nums[i] = nums[i][3:]\n",
    "train['TicketNum'] = nums\n",
    "train['TicketNum'] = train['TicketNum'].replace({'2. 3101285': '3101285','Basle 541':'541','LINE':'0','2. 3101294':'3101294'})\n",
    "train['TicketNum'] = train['TicketNum'].astype('int')\n",
    "\n",
    "train['TicketPrefix'] = prefix\n",
    "train['TicketPrefix'] = train['TicketPrefix'].astype('category').cat.codes\n",
    "\n",
    "print(nums[:5])"
   ]
  },
  {
   "cell_type": "markdown",
   "metadata": {
    "papermill": {
     "duration": 0.082739,
     "end_time": "2020-09-16T02:55:23.673319",
     "exception": false,
     "start_time": "2020-09-16T02:55:23.590580",
     "status": "completed"
    },
    "tags": []
   },
   "source": [
    "Nice! Let's visualize the features we made so far."
   ]
  },
  {
   "cell_type": "code",
   "execution_count": 30,
   "metadata": {
    "execution": {
     "iopub.execute_input": "2020-09-16T02:55:23.863041Z",
     "iopub.status.busy": "2020-09-16T02:55:23.860279Z",
     "iopub.status.idle": "2020-09-16T02:55:24.184037Z",
     "shell.execute_reply": "2020-09-16T02:55:24.184523Z"
    },
    "papermill": {
     "duration": 0.428086,
     "end_time": "2020-09-16T02:55:24.184677",
     "exception": false,
     "start_time": "2020-09-16T02:55:23.756591",
     "status": "completed"
    },
    "tags": []
   },
   "outputs": [
    {
     "data": {
      "text/plain": [
       "Text(0, 0.5, 'Number of People')"
      ]
     },
     "execution_count": 30,
     "metadata": {},
     "output_type": "execute_result"
    },
    {
     "data": {
      "image/png": "[encoded data removed]",
      "text/plain": [
       "<Figure size 432x288 with 1 Axes>"
      ]
     },
     "metadata": {},
     "output_type": "display_data"
    }
   ],
   "source": [
    "counts = []\n",
    "for i in sorted(list(train.TicketPrefix.unique())):\n",
    "    counts.append((train.TicketPrefix == i).sum())\n",
    "plt.bar(sorted(list(train.TicketPrefix.unique())), height = counts)\n",
    "plt.title('Ticket Prefix Counts')\n",
    "plt.xlabel('Ticket Prefixes')\n",
    "plt.ylabel('Number of People')"
   ]
  },
  {
   "cell_type": "markdown",
   "metadata": {
    "papermill": {
     "duration": 0.07872,
     "end_time": "2020-09-16T02:55:24.345113",
     "exception": false,
     "start_time": "2020-09-16T02:55:24.266393",
     "status": "completed"
    },
    "tags": []
   },
   "source": [
    "This may not be the best feature for us to use because most of the data is considered null (or 0). But there seems to be clustered around 5 and a little past 10, which could indicate similar types of people."
   ]
  },
  {
   "cell_type": "code",
   "execution_count": 31,
   "metadata": {
    "execution": {
     "iopub.execute_input": "2020-09-16T02:55:24.506788Z",
     "iopub.status.busy": "2020-09-16T02:55:24.506103Z",
     "iopub.status.idle": "2020-09-16T02:55:24.808119Z",
     "shell.execute_reply": "2020-09-16T02:55:24.807090Z"
    },
    "papermill": {
     "duration": 0.384417,
     "end_time": "2020-09-16T02:55:24.808244",
     "exception": false,
     "start_time": "2020-09-16T02:55:24.423827",
     "status": "completed"
    },
    "tags": []
   },
   "outputs": [
    {
     "data": {
      "text/plain": [
       "<matplotlib.collections.PathCollection at 0x7fe6b8d4f1d0>"
      ]
     },
     "execution_count": 31,
     "metadata": {},
     "output_type": "execute_result"
    },
    {
     "data": {
      "image/png": "[encoded data removed]",
      "text/plain": [
       "<Figure size 432x288 with 1 Axes>"
      ]
     },
     "metadata": {},
     "output_type": "display_data"
    }
   ],
   "source": [
    "plt.scatter(train.TicketNum,np.ones(len(train)))"
   ]
  },
  {
   "cell_type": "markdown",
   "metadata": {
    "papermill": {
     "duration": 0.080053,
     "end_time": "2020-09-16T02:55:24.967974",
     "exception": false,
     "start_time": "2020-09-16T02:55:24.887921",
     "status": "completed"
    },
    "tags": []
   },
   "source": [
    "Again, we see a high density and frequency of values centered around 0 to 0.5, but there seems to be a couple outliers towards the 3.0 section. They may skew the data and affect the prediction accuracy so we may have to review it in the future."
   ]
  },
  {
   "cell_type": "markdown",
   "metadata": {
    "papermill": {
     "duration": 0.079903,
     "end_time": "2020-09-16T02:55:25.128983",
     "exception": false,
     "start_time": "2020-09-16T02:55:25.049080",
     "status": "completed"
    },
    "tags": []
   },
   "source": [
    "# **Fare**"
   ]
  },
  {
   "cell_type": "markdown",
   "metadata": {
    "papermill": {
     "duration": 0.07952,
     "end_time": "2020-09-16T02:55:25.289021",
     "exception": false,
     "start_time": "2020-09-16T02:55:25.209501",
     "status": "completed"
    },
    "tags": []
   },
   "source": [
    "Finally! We have an easier feature to handle. Let's fill in the null values with the mode of the \"Fares\" feature and visualize the data.\n",
    "\n",
    "Note 1: I am using the mode because typically, fares are set based on the ticket purchased, so there are many repeated values that would fit each fare.\n",
    "Note 2: I am not making a separate \"FareNull\" because there are a very small number of null values (Less than 10), which makes the null fare column indiscriminat and unhelpful."
   ]
  },
  {
   "cell_type": "code",
   "execution_count": 32,
   "metadata": {
    "execution": {
     "iopub.execute_input": "2020-09-16T02:55:25.454919Z",
     "iopub.status.busy": "2020-09-16T02:55:25.454214Z",
     "iopub.status.idle": "2020-09-16T02:55:25.579194Z",
     "shell.execute_reply": "2020-09-16T02:55:25.578593Z"
    },
    "papermill": {
     "duration": 0.210563,
     "end_time": "2020-09-16T02:55:25.579323",
     "exception": false,
     "start_time": "2020-09-16T02:55:25.368760",
     "status": "completed"
    },
    "tags": []
   },
   "outputs": [
    {
     "data": {
      "text/plain": [
       "{'whiskers': [<matplotlib.lines.Line2D at 0x7fe6b8c7be50>,\n",
       "  <matplotlib.lines.Line2D at 0x7fe6b8c7e3d0>],\n",
       " 'caps': [<matplotlib.lines.Line2D at 0x7fe6b8c7e910>,\n",
       "  <matplotlib.lines.Line2D at 0x7fe6b8c7ee50>],\n",
       " 'boxes': [<matplotlib.lines.Line2D at 0x7fe6b8c7b910>],\n",
       " 'medians': [<matplotlib.lines.Line2D at 0x7fe6b8c85410>],\n",
       " 'fliers': [<matplotlib.lines.Line2D at 0x7fe6b8c85950>],\n",
       " 'means': []}"
      ]
     },
     "execution_count": 32,
     "metadata": {},
     "output_type": "execute_result"
    },
    {
     "data": {
      "image/png": "[encoded data removed]",
      "text/plain": [
       "<Figure size 432x288 with 1 Axes>"
      ]
     },
     "metadata": {},
     "output_type": "display_data"
    }
   ],
   "source": [
    "train['Fare'] = train['Fare'].fillna(train['Fare'].mode())\n",
    "\n",
    "plt.boxplot(train.Fare)"
   ]
  },
  {
   "cell_type": "markdown",
   "metadata": {
    "papermill": {
     "duration": 0.081827,
     "end_time": "2020-09-16T02:55:25.743474",
     "exception": false,
     "start_time": "2020-09-16T02:55:25.661647",
     "status": "completed"
    },
    "tags": []
   },
   "source": [
    "We can see there is a large amount of outliers, especially the one above the 500 range. It may be helpful to separate the outliers from the normal values, but I will be skipping that for now."
   ]
  },
  {
   "cell_type": "markdown",
   "metadata": {
    "papermill": {
     "duration": 0.080816,
     "end_time": "2020-09-16T02:55:25.906470",
     "exception": false,
     "start_time": "2020-09-16T02:55:25.825654",
     "status": "completed"
    },
    "tags": []
   },
   "source": [
    "# **Cabin**"
   ]
  },
  {
   "cell_type": "markdown",
   "metadata": {
    "papermill": {
     "duration": 0.080874,
     "end_time": "2020-09-16T02:55:26.068446",
     "exception": false,
     "start_time": "2020-09-16T02:55:25.987572",
     "status": "completed"
    },
    "tags": []
   },
   "source": [
    "Let's take a look at the \"Cabin\" feature. The Cabin feature is very similar to Ticket feature, in that it has a letter prefix and a number suffix. Good thing with the Cabin feature is that we know that the first character will be a letter. \n",
    "\n",
    "Let's fill all the null values (Since there is A LOT) with the letter 'Z'. There is no need to make another \"null\" value feature because the Cabin feature acts as a null value because the 'Z' acts this function. I will also create a \"CabinLetter\" feature by isolating the first character in the string."
   ]
  },
  {
   "cell_type": "code",
   "execution_count": 33,
   "metadata": {
    "execution": {
     "iopub.execute_input": "2020-09-16T02:55:26.242270Z",
     "iopub.status.busy": "2020-09-16T02:55:26.238883Z",
     "iopub.status.idle": "2020-09-16T02:55:26.268551Z",
     "shell.execute_reply": "2020-09-16T02:55:26.269140Z"
    },
    "papermill": {
     "duration": 0.120011,
     "end_time": "2020-09-16T02:55:26.269316",
     "exception": false,
     "start_time": "2020-09-16T02:55:26.149305",
     "status": "completed"
    },
    "tags": []
   },
   "outputs": [
    {
     "data": {
      "text/html": [
       "<div>\n",
       "<style scoped>\n",
       "    .dataframe tbody tr th:only-of-type {\n",
       "        vertical-align: middle;\n",
       "    }\n",
       "\n",
       "    .dataframe tbody tr th {\n",
       "        vertical-align: top;\n",
       "    }\n",
       "\n",
       "    .dataframe thead th {\n",
       "        text-align: right;\n",
       "    }\n",
       "</style>\n",
       "<table border=\"1\" class=\"dataframe\">\n",
       "  <thead>\n",
       "    <tr style=\"text-align: right;\">\n",
       "      <th></th>\n",
       "      <th>PassengerId</th>\n",
       "      <th>Survived</th>\n",
       "      <th>Pclass</th>\n",
       "      <th>Name</th>\n",
       "      <th>Sex</th>\n",
       "      <th>Age</th>\n",
       "      <th>SibSp</th>\n",
       "      <th>Parch</th>\n",
       "      <th>Ticket</th>\n",
       "      <th>Fare</th>\n",
       "      <th>...</th>\n",
       "      <th>AgeNull</th>\n",
       "      <th>Child</th>\n",
       "      <th>Adult</th>\n",
       "      <th>Senior</th>\n",
       "      <th>EstimatedAge</th>\n",
       "      <th>Family</th>\n",
       "      <th>Nanny</th>\n",
       "      <th>TicketNum</th>\n",
       "      <th>TicketPrefix</th>\n",
       "      <th>CabinLetter</th>\n",
       "    </tr>\n",
       "  </thead>\n",
       "  <tbody>\n",
       "    <tr>\n",
       "      <th>0</th>\n",
       "      <td>1</td>\n",
       "      <td>0</td>\n",
       "      <td>3</td>\n",
       "      <td>Braund, Mr. Owen Harris</td>\n",
       "      <td>1</td>\n",
       "      <td>22.0</td>\n",
       "      <td>1</td>\n",
       "      <td>0</td>\n",
       "      <td>A/5 21171</td>\n",
       "      <td>7.2500</td>\n",
       "      <td>...</td>\n",
       "      <td>False</td>\n",
       "      <td>False</td>\n",
       "      <td>True</td>\n",
       "      <td>False</td>\n",
       "      <td>False</td>\n",
       "      <td>1</td>\n",
       "      <td>False</td>\n",
       "      <td>21171</td>\n",
       "      <td>2</td>\n",
       "      <td>Z</td>\n",
       "    </tr>\n",
       "    <tr>\n",
       "      <th>1</th>\n",
       "      <td>2</td>\n",
       "      <td>1</td>\n",
       "      <td>1</td>\n",
       "      <td>Cumings, Mrs. John Bradley (Florence Briggs Th...</td>\n",
       "      <td>0</td>\n",
       "      <td>38.0</td>\n",
       "      <td>1</td>\n",
       "      <td>0</td>\n",
       "      <td>PC 17599</td>\n",
       "      <td>71.2833</td>\n",
       "      <td>...</td>\n",
       "      <td>False</td>\n",
       "      <td>False</td>\n",
       "      <td>True</td>\n",
       "      <td>False</td>\n",
       "      <td>False</td>\n",
       "      <td>1</td>\n",
       "      <td>False</td>\n",
       "      <td>17599</td>\n",
       "      <td>10</td>\n",
       "      <td>C</td>\n",
       "    </tr>\n",
       "    <tr>\n",
       "      <th>2</th>\n",
       "      <td>3</td>\n",
       "      <td>1</td>\n",
       "      <td>3</td>\n",
       "      <td>Heikkinen, Miss. Laina</td>\n",
       "      <td>0</td>\n",
       "      <td>26.0</td>\n",
       "      <td>0</td>\n",
       "      <td>0</td>\n",
       "      <td>STON/O2. 3101282</td>\n",
       "      <td>7.9250</td>\n",
       "      <td>...</td>\n",
       "      <td>False</td>\n",
       "      <td>False</td>\n",
       "      <td>True</td>\n",
       "      <td>False</td>\n",
       "      <td>False</td>\n",
       "      <td>0</td>\n",
       "      <td>False</td>\n",
       "      <td>3101282</td>\n",
       "      <td>25</td>\n",
       "      <td>Z</td>\n",
       "    </tr>\n",
       "    <tr>\n",
       "      <th>3</th>\n",
       "      <td>4</td>\n",
       "      <td>1</td>\n",
       "      <td>1</td>\n",
       "      <td>Futrelle, Mrs. Jacques Heath (Lily May Peel)</td>\n",
       "      <td>0</td>\n",
       "      <td>35.0</td>\n",
       "      <td>1</td>\n",
       "      <td>0</td>\n",
       "      <td>113803</td>\n",
       "      <td>53.1000</td>\n",
       "      <td>...</td>\n",
       "      <td>False</td>\n",
       "      <td>False</td>\n",
       "      <td>True</td>\n",
       "      <td>False</td>\n",
       "      <td>False</td>\n",
       "      <td>1</td>\n",
       "      <td>False</td>\n",
       "      <td>113803</td>\n",
       "      <td>0</td>\n",
       "      <td>C</td>\n",
       "    </tr>\n",
       "    <tr>\n",
       "      <th>4</th>\n",
       "      <td>5</td>\n",
       "      <td>0</td>\n",
       "      <td>3</td>\n",
       "      <td>Allen, Mr. William Henry</td>\n",
       "      <td>1</td>\n",
       "      <td>35.0</td>\n",
       "      <td>0</td>\n",
       "      <td>0</td>\n",
       "      <td>373450</td>\n",
       "      <td>8.0500</td>\n",
       "      <td>...</td>\n",
       "      <td>False</td>\n",
       "      <td>False</td>\n",
       "      <td>True</td>\n",
       "      <td>False</td>\n",
       "      <td>False</td>\n",
       "      <td>0</td>\n",
       "      <td>False</td>\n",
       "      <td>373450</td>\n",
       "      <td>0</td>\n",
       "      <td>Z</td>\n",
       "    </tr>\n",
       "  </tbody>\n",
       "</table>\n",
       "<p>5 rows × 31 columns</p>\n",
       "</div>"
      ],
      "text/plain": [
       "   PassengerId  Survived  Pclass  \\\n",
       "0            1         0       3   \n",
       "1            2         1       1   \n",
       "2            3         1       3   \n",
       "3            4         1       1   \n",
       "4            5         0       3   \n",
       "\n",
       "                                                Name  Sex   Age  SibSp  Parch  \\\n",
       "0                            Braund, Mr. Owen Harris    1  22.0      1      0   \n",
       "1  Cumings, Mrs. John Bradley (Florence Briggs Th...    0  38.0      1      0   \n",
       "2                             Heikkinen, Miss. Laina    0  26.0      0      0   \n",
       "3       Futrelle, Mrs. Jacques Heath (Lily May Peel)    0  35.0      1      0   \n",
       "4                           Allen, Mr. William Henry    1  35.0      0      0   \n",
       "\n",
       "             Ticket     Fare  ... AgeNull  Child  Adult  Senior  EstimatedAge  \\\n",
       "0         A/5 21171   7.2500  ...   False  False   True   False         False   \n",
       "1          PC 17599  71.2833  ...   False  False   True   False         False   \n",
       "2  STON/O2. 3101282   7.9250  ...   False  False   True   False         False   \n",
       "3            113803  53.1000  ...   False  False   True   False         False   \n",
       "4            373450   8.0500  ...   False  False   True   False         False   \n",
       "\n",
       "   Family  Nanny  TicketNum  TicketPrefix  CabinLetter  \n",
       "0       1  False      21171             2            Z  \n",
       "1       1  False      17599            10            C  \n",
       "2       0  False    3101282            25            Z  \n",
       "3       1  False     113803             0            C  \n",
       "4       0  False     373450             0            Z  \n",
       "\n",
       "[5 rows x 31 columns]"
      ]
     },
     "execution_count": 33,
     "metadata": {},
     "output_type": "execute_result"
    }
   ],
   "source": [
    "train['Cabin'] = train['Cabin'].fillna('Z')\n",
    "train['CabinLetter'] = train['Cabin'].apply(lambda x: x[0])\n",
    "\n",
    "train.head()"
   ]
  },
  {
   "cell_type": "markdown",
   "metadata": {
    "papermill": {
     "duration": 0.082428,
     "end_time": "2020-09-16T02:55:26.434448",
     "exception": false,
     "start_time": "2020-09-16T02:55:26.352020",
     "status": "completed"
    },
    "tags": []
   },
   "source": [
    "I will also isolate the number value of the \"Cabin\" feature. I have to make sure to distinguish the 'Z' values from the actual number values to make sure we isolate the null values. "
   ]
  },
  {
   "cell_type": "code",
   "execution_count": 34,
   "metadata": {
    "execution": {
     "iopub.execute_input": "2020-09-16T02:55:26.604187Z",
     "iopub.status.busy": "2020-09-16T02:55:26.603163Z",
     "iopub.status.idle": "2020-09-16T02:55:26.673961Z",
     "shell.execute_reply": "2020-09-16T02:55:26.673303Z"
    },
    "papermill": {
     "duration": 0.157616,
     "end_time": "2020-09-16T02:55:26.674086",
     "exception": false,
     "start_time": "2020-09-16T02:55:26.516470",
     "status": "completed"
    },
    "tags": []
   },
   "outputs": [
    {
     "data": {
      "text/html": [
       "<div>\n",
       "<style scoped>\n",
       "    .dataframe tbody tr th:only-of-type {\n",
       "        vertical-align: middle;\n",
       "    }\n",
       "\n",
       "    .dataframe tbody tr th {\n",
       "        vertical-align: top;\n",
       "    }\n",
       "\n",
       "    .dataframe thead th {\n",
       "        text-align: right;\n",
       "    }\n",
       "</style>\n",
       "<table border=\"1\" class=\"dataframe\">\n",
       "  <thead>\n",
       "    <tr style=\"text-align: right;\">\n",
       "      <th></th>\n",
       "      <th>PassengerId</th>\n",
       "      <th>Survived</th>\n",
       "      <th>Pclass</th>\n",
       "      <th>Name</th>\n",
       "      <th>Sex</th>\n",
       "      <th>Age</th>\n",
       "      <th>SibSp</th>\n",
       "      <th>Parch</th>\n",
       "      <th>Ticket</th>\n",
       "      <th>Fare</th>\n",
       "      <th>...</th>\n",
       "      <th>Child</th>\n",
       "      <th>Adult</th>\n",
       "      <th>Senior</th>\n",
       "      <th>EstimatedAge</th>\n",
       "      <th>Family</th>\n",
       "      <th>Nanny</th>\n",
       "      <th>TicketNum</th>\n",
       "      <th>TicketPrefix</th>\n",
       "      <th>CabinLetter</th>\n",
       "      <th>CabinNum</th>\n",
       "    </tr>\n",
       "  </thead>\n",
       "  <tbody>\n",
       "    <tr>\n",
       "      <th>0</th>\n",
       "      <td>1</td>\n",
       "      <td>0</td>\n",
       "      <td>3</td>\n",
       "      <td>Braund, Mr. Owen Harris</td>\n",
       "      <td>1</td>\n",
       "      <td>22.0</td>\n",
       "      <td>1</td>\n",
       "      <td>0</td>\n",
       "      <td>A/5 21171</td>\n",
       "      <td>7.2500</td>\n",
       "      <td>...</td>\n",
       "      <td>False</td>\n",
       "      <td>True</td>\n",
       "      <td>False</td>\n",
       "      <td>False</td>\n",
       "      <td>1</td>\n",
       "      <td>False</td>\n",
       "      <td>21171</td>\n",
       "      <td>2</td>\n",
       "      <td>Z</td>\n",
       "      <td>0</td>\n",
       "    </tr>\n",
       "    <tr>\n",
       "      <th>1</th>\n",
       "      <td>2</td>\n",
       "      <td>1</td>\n",
       "      <td>1</td>\n",
       "      <td>Cumings, Mrs. John Bradley (Florence Briggs Th...</td>\n",
       "      <td>0</td>\n",
       "      <td>38.0</td>\n",
       "      <td>1</td>\n",
       "      <td>0</td>\n",
       "      <td>PC 17599</td>\n",
       "      <td>71.2833</td>\n",
       "      <td>...</td>\n",
       "      <td>False</td>\n",
       "      <td>True</td>\n",
       "      <td>False</td>\n",
       "      <td>False</td>\n",
       "      <td>1</td>\n",
       "      <td>False</td>\n",
       "      <td>17599</td>\n",
       "      <td>10</td>\n",
       "      <td>C</td>\n",
       "      <td>85</td>\n",
       "    </tr>\n",
       "    <tr>\n",
       "      <th>2</th>\n",
       "      <td>3</td>\n",
       "      <td>1</td>\n",
       "      <td>3</td>\n",
       "      <td>Heikkinen, Miss. Laina</td>\n",
       "      <td>0</td>\n",
       "      <td>26.0</td>\n",
       "      <td>0</td>\n",
       "      <td>0</td>\n",
       "      <td>STON/O2. 3101282</td>\n",
       "      <td>7.9250</td>\n",
       "      <td>...</td>\n",
       "      <td>False</td>\n",
       "      <td>True</td>\n",
       "      <td>False</td>\n",
       "      <td>False</td>\n",
       "      <td>0</td>\n",
       "      <td>False</td>\n",
       "      <td>3101282</td>\n",
       "      <td>25</td>\n",
       "      <td>Z</td>\n",
       "      <td>0</td>\n",
       "    </tr>\n",
       "    <tr>\n",
       "      <th>3</th>\n",
       "      <td>4</td>\n",
       "      <td>1</td>\n",
       "      <td>1</td>\n",
       "      <td>Futrelle, Mrs. Jacques Heath (Lily May Peel)</td>\n",
       "      <td>0</td>\n",
       "      <td>35.0</td>\n",
       "      <td>1</td>\n",
       "      <td>0</td>\n",
       "      <td>113803</td>\n",
       "      <td>53.1000</td>\n",
       "      <td>...</td>\n",
       "      <td>False</td>\n",
       "      <td>True</td>\n",
       "      <td>False</td>\n",
       "      <td>False</td>\n",
       "      <td>1</td>\n",
       "      <td>False</td>\n",
       "      <td>113803</td>\n",
       "      <td>0</td>\n",
       "      <td>C</td>\n",
       "      <td>123</td>\n",
       "    </tr>\n",
       "    <tr>\n",
       "      <th>4</th>\n",
       "      <td>5</td>\n",
       "      <td>0</td>\n",
       "      <td>3</td>\n",
       "      <td>Allen, Mr. William Henry</td>\n",
       "      <td>1</td>\n",
       "      <td>35.0</td>\n",
       "      <td>0</td>\n",
       "      <td>0</td>\n",
       "      <td>373450</td>\n",
       "      <td>8.0500</td>\n",
       "      <td>...</td>\n",
       "      <td>False</td>\n",
       "      <td>True</td>\n",
       "      <td>False</td>\n",
       "      <td>False</td>\n",
       "      <td>0</td>\n",
       "      <td>False</td>\n",
       "      <td>373450</td>\n",
       "      <td>0</td>\n",
       "      <td>Z</td>\n",
       "      <td>0</td>\n",
       "    </tr>\n",
       "  </tbody>\n",
       "</table>\n",
       "<p>5 rows × 32 columns</p>\n",
       "</div>"
      ],
      "text/plain": [
       "   PassengerId  Survived  Pclass  \\\n",
       "0            1         0       3   \n",
       "1            2         1       1   \n",
       "2            3         1       3   \n",
       "3            4         1       1   \n",
       "4            5         0       3   \n",
       "\n",
       "                                                Name  Sex   Age  SibSp  Parch  \\\n",
       "0                            Braund, Mr. Owen Harris    1  22.0      1      0   \n",
       "1  Cumings, Mrs. John Bradley (Florence Briggs Th...    0  38.0      1      0   \n",
       "2                             Heikkinen, Miss. Laina    0  26.0      0      0   \n",
       "3       Futrelle, Mrs. Jacques Heath (Lily May Peel)    0  35.0      1      0   \n",
       "4                           Allen, Mr. William Henry    1  35.0      0      0   \n",
       "\n",
       "             Ticket     Fare  ...  Child Adult  Senior  EstimatedAge  Family  \\\n",
       "0         A/5 21171   7.2500  ...  False  True   False         False       1   \n",
       "1          PC 17599  71.2833  ...  False  True   False         False       1   \n",
       "2  STON/O2. 3101282   7.9250  ...  False  True   False         False       0   \n",
       "3            113803  53.1000  ...  False  True   False         False       1   \n",
       "4            373450   8.0500  ...  False  True   False         False       0   \n",
       "\n",
       "   Nanny  TicketNum  TicketPrefix  CabinLetter  CabinNum  \n",
       "0  False      21171             2            Z         0  \n",
       "1  False      17599            10            C        85  \n",
       "2  False    3101282            25            Z         0  \n",
       "3  False     113803             0            C       123  \n",
       "4  False     373450             0            Z         0  \n",
       "\n",
       "[5 rows x 32 columns]"
      ]
     },
     "execution_count": 34,
     "metadata": {},
     "output_type": "execute_result"
    }
   ],
   "source": [
    "nums = []\n",
    "for i in range (0,len(train['Cabin'])):\n",
    "    end = 0\n",
    "    for j in range (1,len(train['Cabin'][i])+1):\n",
    "        if (train['Cabin'][i][-j].isalpha()):\n",
    "            end = j-1\n",
    "            break\n",
    "    nums.append(train['Cabin'][i][-end:])\n",
    "train['CabinNum'] = nums\n",
    "train['CabinNum'] = train['CabinNum'].replace({'':'0','Z':'0','D':'0','T':'0'})\n",
    "train['CabinNum'] = train['CabinNum'].astype(int)\n",
    "\n",
    "\n",
    "train.head()"
   ]
  },
  {
   "cell_type": "markdown",
   "metadata": {
    "papermill": {
     "duration": 0.083871,
     "end_time": "2020-09-16T02:55:26.841940",
     "exception": false,
     "start_time": "2020-09-16T02:55:26.758069",
     "status": "completed"
    },
    "tags": []
   },
   "source": [
    "Let's visualize the Cabin Number distribution of the data."
   ]
  },
  {
   "cell_type": "code",
   "execution_count": 35,
   "metadata": {
    "execution": {
     "iopub.execute_input": "2020-09-16T02:55:27.023617Z",
     "iopub.status.busy": "2020-09-16T02:55:27.018040Z",
     "iopub.status.idle": "2020-09-16T02:55:27.355042Z",
     "shell.execute_reply": "2020-09-16T02:55:27.354324Z"
    },
    "papermill": {
     "duration": 0.429776,
     "end_time": "2020-09-16T02:55:27.355172",
     "exception": false,
     "start_time": "2020-09-16T02:55:26.925396",
     "status": "completed"
    },
    "tags": []
   },
   "outputs": [
    {
     "data": {
      "image/png": "[encoded data removed]",
      "text/plain": [
       "<Figure size 432x288 with 1 Axes>"
      ]
     },
     "metadata": {},
     "output_type": "display_data"
    }
   ],
   "source": [
    "plt.scatter(train.CabinNum,np.ones(len(train)))\n",
    "plt.show()"
   ]
  },
  {
   "cell_type": "markdown",
   "metadata": {
    "papermill": {
     "duration": 0.092815,
     "end_time": "2020-09-16T02:55:27.536360",
     "exception": false,
     "start_time": "2020-09-16T02:55:27.443545",
     "status": "completed"
    },
    "tags": []
   },
   "source": [
    "We can see a decently spread out distribution of the Cabin Numbers from the dataset. This may indicate that there is a wide variety of variations in the numbers and may be a strong classification point. Also the location of the Cabin may actually have a huge impact on the probability of the person surviving."
   ]
  },
  {
   "cell_type": "markdown",
   "metadata": {
    "papermill": {
     "duration": 0.083351,
     "end_time": "2020-09-16T02:55:27.709252",
     "exception": false,
     "start_time": "2020-09-16T02:55:27.625901",
     "status": "completed"
    },
    "tags": []
   },
   "source": [
    "Let's also visualize the count of each prefix in a bar graph. "
   ]
  },
  {
   "cell_type": "code",
   "execution_count": 36,
   "metadata": {
    "execution": {
     "iopub.execute_input": "2020-09-16T02:55:27.894641Z",
     "iopub.status.busy": "2020-09-16T02:55:27.890420Z",
     "iopub.status.idle": "2020-09-16T02:55:28.097619Z",
     "shell.execute_reply": "2020-09-16T02:55:28.096885Z"
    },
    "papermill": {
     "duration": 0.304289,
     "end_time": "2020-09-16T02:55:28.097761",
     "exception": false,
     "start_time": "2020-09-16T02:55:27.793472",
     "status": "completed"
    },
    "tags": []
   },
   "outputs": [
    {
     "data": {
      "image/png": "[encoded data removed]",
      "text/plain": [
       "<Figure size 432x288 with 1 Axes>"
      ]
     },
     "metadata": {},
     "output_type": "display_data"
    }
   ],
   "source": [
    "counts = []\n",
    "for i in sorted(list(train.CabinLetter.unique())):\n",
    "    counts.append((train.CabinLetter == i).sum())\n",
    "plt.bar(sorted(list(train.CabinLetter.unique())), height = counts)\n",
    "plt.title('Cabin Letter Counts')\n",
    "plt.xlabel('Cabin Letter')\n",
    "plt.ylabel('Number of People')\n",
    "\n",
    "train['CabinLetter'] = train['CabinLetter'].astype('category').cat.codes"
   ]
  },
  {
   "cell_type": "markdown",
   "metadata": {
    "papermill": {
     "duration": 0.08511,
     "end_time": "2020-09-16T02:55:28.268283",
     "exception": false,
     "start_time": "2020-09-16T02:55:28.183173",
     "status": "completed"
    },
    "tags": []
   },
   "source": [
    "Obviously, we see a huge distribution of 'Z' values, representing the null values. There is also almost a normal distribution of values from A-T, maybe representing the differently parts of layers of the ship, which could also affect whether or not the passenger survives."
   ]
  },
  {
   "cell_type": "markdown",
   "metadata": {
    "papermill": {
     "duration": 0.08389,
     "end_time": "2020-09-16T02:55:28.436425",
     "exception": false,
     "start_time": "2020-09-16T02:55:28.352535",
     "status": "completed"
    },
    "tags": []
   },
   "source": [
    "# **Embarked**"
   ]
  },
  {
   "cell_type": "markdown",
   "metadata": {
    "papermill": {
     "duration": 0.084577,
     "end_time": "2020-09-16T02:55:28.605150",
     "exception": false,
     "start_time": "2020-09-16T02:55:28.520573",
     "status": "completed"
    },
    "tags": []
   },
   "source": [
    "Finally, the last feature we have to tackle is the \"embarked\" feature. There is not much we can separate here, as there clearly are three destinations that the Titantic ported at. Therefore, I will fill in the missing features in Embarked (which is also a very small amount) and one-hot encode the data."
   ]
  },
  {
   "cell_type": "code",
   "execution_count": 37,
   "metadata": {
    "execution": {
     "iopub.execute_input": "2020-09-16T02:55:28.784857Z",
     "iopub.status.busy": "2020-09-16T02:55:28.783773Z",
     "iopub.status.idle": "2020-09-16T02:55:28.819978Z",
     "shell.execute_reply": "2020-09-16T02:55:28.819325Z"
    },
    "papermill": {
     "duration": 0.13067,
     "end_time": "2020-09-16T02:55:28.820101",
     "exception": false,
     "start_time": "2020-09-16T02:55:28.689431",
     "status": "completed"
    },
    "tags": []
   },
   "outputs": [
    {
     "data": {
      "text/html": [
       "<div>\n",
       "<style scoped>\n",
       "    .dataframe tbody tr th:only-of-type {\n",
       "        vertical-align: middle;\n",
       "    }\n",
       "\n",
       "    .dataframe tbody tr th {\n",
       "        vertical-align: top;\n",
       "    }\n",
       "\n",
       "    .dataframe thead th {\n",
       "        text-align: right;\n",
       "    }\n",
       "</style>\n",
       "<table border=\"1\" class=\"dataframe\">\n",
       "  <thead>\n",
       "    <tr style=\"text-align: right;\">\n",
       "      <th></th>\n",
       "      <th>PassengerId</th>\n",
       "      <th>Survived</th>\n",
       "      <th>Pclass</th>\n",
       "      <th>Name</th>\n",
       "      <th>Sex</th>\n",
       "      <th>Age</th>\n",
       "      <th>SibSp</th>\n",
       "      <th>Parch</th>\n",
       "      <th>Ticket</th>\n",
       "      <th>Fare</th>\n",
       "      <th>...</th>\n",
       "      <th>EstimatedAge</th>\n",
       "      <th>Family</th>\n",
       "      <th>Nanny</th>\n",
       "      <th>TicketNum</th>\n",
       "      <th>TicketPrefix</th>\n",
       "      <th>CabinLetter</th>\n",
       "      <th>CabinNum</th>\n",
       "      <th>Emb_C</th>\n",
       "      <th>Emb_Q</th>\n",
       "      <th>Emb_S</th>\n",
       "    </tr>\n",
       "  </thead>\n",
       "  <tbody>\n",
       "    <tr>\n",
       "      <th>0</th>\n",
       "      <td>1</td>\n",
       "      <td>0</td>\n",
       "      <td>3</td>\n",
       "      <td>Braund, Mr. Owen Harris</td>\n",
       "      <td>1</td>\n",
       "      <td>22.0</td>\n",
       "      <td>1</td>\n",
       "      <td>0</td>\n",
       "      <td>A/5 21171</td>\n",
       "      <td>7.2500</td>\n",
       "      <td>...</td>\n",
       "      <td>False</td>\n",
       "      <td>1</td>\n",
       "      <td>False</td>\n",
       "      <td>21171</td>\n",
       "      <td>2</td>\n",
       "      <td>8</td>\n",
       "      <td>0</td>\n",
       "      <td>0</td>\n",
       "      <td>0</td>\n",
       "      <td>1</td>\n",
       "    </tr>\n",
       "    <tr>\n",
       "      <th>1</th>\n",
       "      <td>2</td>\n",
       "      <td>1</td>\n",
       "      <td>1</td>\n",
       "      <td>Cumings, Mrs. John Bradley (Florence Briggs Th...</td>\n",
       "      <td>0</td>\n",
       "      <td>38.0</td>\n",
       "      <td>1</td>\n",
       "      <td>0</td>\n",
       "      <td>PC 17599</td>\n",
       "      <td>71.2833</td>\n",
       "      <td>...</td>\n",
       "      <td>False</td>\n",
       "      <td>1</td>\n",
       "      <td>False</td>\n",
       "      <td>17599</td>\n",
       "      <td>10</td>\n",
       "      <td>2</td>\n",
       "      <td>85</td>\n",
       "      <td>1</td>\n",
       "      <td>0</td>\n",
       "      <td>0</td>\n",
       "    </tr>\n",
       "    <tr>\n",
       "      <th>2</th>\n",
       "      <td>3</td>\n",
       "      <td>1</td>\n",
       "      <td>3</td>\n",
       "      <td>Heikkinen, Miss. Laina</td>\n",
       "      <td>0</td>\n",
       "      <td>26.0</td>\n",
       "      <td>0</td>\n",
       "      <td>0</td>\n",
       "      <td>STON/O2. 3101282</td>\n",
       "      <td>7.9250</td>\n",
       "      <td>...</td>\n",
       "      <td>False</td>\n",
       "      <td>0</td>\n",
       "      <td>False</td>\n",
       "      <td>3101282</td>\n",
       "      <td>25</td>\n",
       "      <td>8</td>\n",
       "      <td>0</td>\n",
       "      <td>0</td>\n",
       "      <td>0</td>\n",
       "      <td>1</td>\n",
       "    </tr>\n",
       "    <tr>\n",
       "      <th>3</th>\n",
       "      <td>4</td>\n",
       "      <td>1</td>\n",
       "      <td>1</td>\n",
       "      <td>Futrelle, Mrs. Jacques Heath (Lily May Peel)</td>\n",
       "      <td>0</td>\n",
       "      <td>35.0</td>\n",
       "      <td>1</td>\n",
       "      <td>0</td>\n",
       "      <td>113803</td>\n",
       "      <td>53.1000</td>\n",
       "      <td>...</td>\n",
       "      <td>False</td>\n",
       "      <td>1</td>\n",
       "      <td>False</td>\n",
       "      <td>113803</td>\n",
       "      <td>0</td>\n",
       "      <td>2</td>\n",
       "      <td>123</td>\n",
       "      <td>0</td>\n",
       "      <td>0</td>\n",
       "      <td>1</td>\n",
       "    </tr>\n",
       "    <tr>\n",
       "      <th>4</th>\n",
       "      <td>5</td>\n",
       "      <td>0</td>\n",
       "      <td>3</td>\n",
       "      <td>Allen, Mr. William Henry</td>\n",
       "      <td>1</td>\n",
       "      <td>35.0</td>\n",
       "      <td>0</td>\n",
       "      <td>0</td>\n",
       "      <td>373450</td>\n",
       "      <td>8.0500</td>\n",
       "      <td>...</td>\n",
       "      <td>False</td>\n",
       "      <td>0</td>\n",
       "      <td>False</td>\n",
       "      <td>373450</td>\n",
       "      <td>0</td>\n",
       "      <td>8</td>\n",
       "      <td>0</td>\n",
       "      <td>0</td>\n",
       "      <td>0</td>\n",
       "      <td>1</td>\n",
       "    </tr>\n",
       "  </tbody>\n",
       "</table>\n",
       "<p>5 rows × 34 columns</p>\n",
       "</div>"
      ],
      "text/plain": [
       "   PassengerId  Survived  Pclass  \\\n",
       "0            1         0       3   \n",
       "1            2         1       1   \n",
       "2            3         1       3   \n",
       "3            4         1       1   \n",
       "4            5         0       3   \n",
       "\n",
       "                                                Name  Sex   Age  SibSp  Parch  \\\n",
       "0                            Braund, Mr. Owen Harris    1  22.0      1      0   \n",
       "1  Cumings, Mrs. John Bradley (Florence Briggs Th...    0  38.0      1      0   \n",
       "2                             Heikkinen, Miss. Laina    0  26.0      0      0   \n",
       "3       Futrelle, Mrs. Jacques Heath (Lily May Peel)    0  35.0      1      0   \n",
       "4                           Allen, Mr. William Henry    1  35.0      0      0   \n",
       "\n",
       "             Ticket     Fare  ... EstimatedAge  Family  Nanny  TicketNum  \\\n",
       "0         A/5 21171   7.2500  ...        False       1  False      21171   \n",
       "1          PC 17599  71.2833  ...        False       1  False      17599   \n",
       "2  STON/O2. 3101282   7.9250  ...        False       0  False    3101282   \n",
       "3            113803  53.1000  ...        False       1  False     113803   \n",
       "4            373450   8.0500  ...        False       0  False     373450   \n",
       "\n",
       "   TicketPrefix  CabinLetter  CabinNum  Emb_C  Emb_Q  Emb_S  \n",
       "0             2            8         0      0      0      1  \n",
       "1            10            2        85      1      0      0  \n",
       "2            25            8         0      0      0      1  \n",
       "3             0            2       123      0      0      1  \n",
       "4             0            8         0      0      0      1  \n",
       "\n",
       "[5 rows x 34 columns]"
      ]
     },
     "execution_count": 37,
     "metadata": {},
     "output_type": "execute_result"
    }
   ],
   "source": [
    "train['Embarked'] = train['Embarked'].fillna(train['Embarked'].mode())\n",
    "embarked = pd.get_dummies(train.Embarked, prefix = 'Emb')\n",
    "train = pd.concat([train,embarked],axis = 1)\n",
    "train = train.drop(['Embarked'],axis = 1)\n",
    "\n",
    "train.head()"
   ]
  },
  {
   "cell_type": "markdown",
   "metadata": {
    "papermill": {
     "duration": 0.086186,
     "end_time": "2020-09-16T02:55:28.993096",
     "exception": false,
     "start_time": "2020-09-16T02:55:28.906910",
     "status": "completed"
    },
    "tags": []
   },
   "source": [
    "Let's quickly visualize the data before wrapping up. "
   ]
  },
  {
   "cell_type": "code",
   "execution_count": 38,
   "metadata": {
    "execution": {
     "iopub.execute_input": "2020-09-16T02:55:29.172059Z",
     "iopub.status.busy": "2020-09-16T02:55:29.171382Z",
     "iopub.status.idle": "2020-09-16T02:55:29.307889Z",
     "shell.execute_reply": "2020-09-16T02:55:29.307298Z"
    },
    "papermill": {
     "duration": 0.22792,
     "end_time": "2020-09-16T02:55:29.308009",
     "exception": false,
     "start_time": "2020-09-16T02:55:29.080089",
     "status": "completed"
    },
    "tags": []
   },
   "outputs": [
    {
     "data": {
      "text/plain": [
       "<BarContainer object of 3 artists>"
      ]
     },
     "execution_count": 38,
     "metadata": {},
     "output_type": "execute_result"
    },
    {
     "data": {
      "image/png": "[encoded data removed]",
      "text/plain": [
       "<Figure size 432x288 with 1 Axes>"
      ]
     },
     "metadata": {},
     "output_type": "display_data"
    }
   ],
   "source": [
    "plt.bar(['C','Q','S'],[(train.Emb_C == 1).sum(),(train.Emb_Q == 1).sum(),(train.Emb_S == 1).sum()])"
   ]
  },
  {
   "cell_type": "markdown",
   "metadata": {
    "papermill": {
     "duration": 0.085738,
     "end_time": "2020-09-16T02:55:29.480630",
     "exception": false,
     "start_time": "2020-09-16T02:55:29.394892",
     "status": "completed"
    },
    "tags": []
   },
   "source": [
    "We can see a high percentage of people coming from the 'S' dock. Regardless though, where you dock from should not really affect whether you survive or not, unless people who come from similar ports have similar tendencies in the places on the ship they visit."
   ]
  },
  {
   "cell_type": "markdown",
   "metadata": {
    "papermill": {
     "duration": 0.086848,
     "end_time": "2020-09-16T02:55:29.653964",
     "exception": false,
     "start_time": "2020-09-16T02:55:29.567116",
     "status": "completed"
    },
    "tags": []
   },
   "source": [
    "And that's all the features! Whew that took a lot of work. Hopefully you found this helpful for you to try out new features in your code. Please remember to comment any questions, concerns, or mistakes that you see and please upvote if you found this helpful! Remember that if you want to check out how these features improved predictions."
   ]
  }
 ],
 "metadata": {
  "kernelspec": {
   "display_name": "Python 3 (ipykernel)",
   "language": "python",
   "name": "python3"
  },
  "language_info": {
   "codemirror_mode": {
    "name": "ipython",
    "version": 3
   },
   "file_extension": ".py",
   "mimetype": "text/x-python",
   "name": "python",
   "nbconvert_exporter": "python",
   "pygments_lexer": "ipython3",
   "version": "3.9.13"
  },
  "papermill": {
   "duration": 25.442115,
   "end_time": "2020-09-16T02:55:29.850283",
   "environment_variables": {},
   "exception": null,
   "input_path": "__notebook__.ipynb",
   "output_path": "__notebook__.ipynb",
   "parameters": {},
   "start_time": "2020-09-16T02:55:04.408168",
   "version": "2.1.0"
  }
 },
 "nbformat": 4,
 "nbformat_minor": 4
}
